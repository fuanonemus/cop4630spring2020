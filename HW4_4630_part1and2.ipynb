{
  "nbformat": 4,
  "nbformat_minor": 0,
  "metadata": {
    "colab": {
      "name": "HW4_4630_part1and2.ipynb",
      "provenance": [],
      "authorship_tag": "ABX9TyO2VBsxb02SldtsEIHuqow1",
      "include_colab_link": true
    },
    "kernelspec": {
      "name": "python3",
      "display_name": "Python 3"
    }
  },
  "cells": [
    {
      "cell_type": "markdown",
      "metadata": {
        "id": "view-in-github",
        "colab_type": "text"
      },
      "source": [
        "<a href=\"https://colab.research.google.com/github/fuanonemus/cop4630spring2020/blob/master/HW4_4630_part1and2.ipynb\" target=\"_parent\"><img src=\"https://colab.research.google.com/assets/colab-badge.svg\" alt=\"Open In Colab\"/></a>"
      ]
    },
    {
      "cell_type": "markdown",
      "metadata": {
        "id": "msCiBMOXwKjR",
        "colab_type": "text"
      },
      "source": [
        "Problem 1\n",
        "\n",
        "input: input_mat and kernel_mat\n",
        "\n",
        "output: output_mat"
      ]
    },
    {
      "cell_type": "code",
      "metadata": {
        "id": "XhpFNDlpwGCN",
        "colab_type": "code",
        "colab": {}
      },
      "source": [
        "import numpy as np\n",
        "\n",
        "def conv2d ( input_mat, kernel_mat ):\n",
        "  size = input_mat.shape[0] - kernel_mat.shape[0] + 1\n",
        "  if size <= 0:\n",
        "    print(\"Error: kernel_mat should be equal to or smaller than input_mat in size\")\n",
        "    return []\n",
        "  output = np.zeros((size, size))\n",
        "  for x in range(size):\n",
        "    for y in range(size):\n",
        "      for p in range(kernel_mat.shape[0]):\n",
        "        for q in range(kernel_mat.shape[0]):\n",
        "          output[x][y] += input_mat[x+p][y+q] * kernel_mat[p][q]\n",
        "  return output"
      ],
      "execution_count": 0,
      "outputs": []
    },
    {
      "cell_type": "markdown",
      "metadata": {
        "id": "R9eDkZwyOuDO",
        "colab_type": "text"
      },
      "source": [
        "Problem 2\n",
        "\n",
        "maxpooling2d\n",
        "\n",
        "input: input_mat, s\n",
        "\n",
        "output: output_mat"
      ]
    },
    {
      "cell_type": "code",
      "metadata": {
        "id": "5qx4BT9-O6rr",
        "colab_type": "code",
        "colab": {
          "base_uri": "https://localhost:8080/",
          "height": 51
        },
        "outputId": "4fde0d5e-dbc9-4297-84ce-6149f1e156b0"
      },
      "source": [
        "def maxpooling2d ( input_mat, s ):\n",
        "  size = input_mat.shape[0] // s\n",
        "  if size == 0:\n",
        "    print(\"Error: s should be less than or equal to input_mat.shape[0]\")\n",
        "    return []\n",
        "  output = np.zeros((size, size))\n",
        "  for x in range(size):\n",
        "    for y in range(size):\n",
        "      output[x][y] = input_mat[x*s][y*s]\n",
        "      for i in range(s):\n",
        "        for j in range(s):\n",
        "          if (input_mat[x*s + i][y*s + j] > output[x][y]):\n",
        "            output[x][y] = input_mat[x*s + i][y*s + j]\n",
        "  return output\n"
      ],
      "execution_count": 12,
      "outputs": [
        {
          "output_type": "stream",
          "text": [
            "[[4. 2.]\n",
            " [2. 4.]]\n"
          ],
          "name": "stdout"
        }
      ]
    }
  ]
}