{
  "nbformat": 4,
  "nbformat_minor": 0,
  "metadata": {
    "colab": {
      "name": "HW1_4630.ipynb",
      "provenance": [],
      "collapsed_sections": [],
      "authorship_tag": "ABX9TyMTeFm6O/QpI2bsHb8i88ff",
      "include_colab_link": true
    },
    "kernelspec": {
      "name": "python3",
      "display_name": "Python 3"
    }
  },
  "cells": [
    {
      "cell_type": "markdown",
      "metadata": {
        "id": "view-in-github",
        "colab_type": "text"
      },
      "source": [
        "<a href=\"https://colab.research.google.com/github/fuanonemus/cop4630spring2020/blob/master/HW1_4630.ipynb\" target=\"_parent\"><img src=\"https://colab.research.google.com/assets/colab-badge.svg\" alt=\"Open In Colab\"/></a>"
      ]
    },
    {
      "cell_type": "markdown",
      "metadata": {
        "id": "hTW5mYSXp6el",
        "colab_type": "text"
      },
      "source": [
        "This program multiplies a list of matrices sequentially and returns their product. If the list is empty, or if two matrices are incompatible, the function will print an error.\n",
        "\n",
        "Matrix incompatibility occurs when the number of columns of the first matrix does not equal the number of rows of the second matrix. For example, you can multiply matrices A and B because A has 2 columns and B has 2 rows:\n",
        "\n",
        "$$\n",
        "A =\n",
        "\\begin{bmatrix}\n",
        "    a  &  b      \\\\\n",
        "    c  &  d\n",
        "\\end{bmatrix} \\hspace{1cm} \\times \\hspace{1cm}\n",
        "B =\n",
        "\\begin{bmatrix}\n",
        "    e  &  f  &  g      \\\\\n",
        "    h  &  i  &  j\n",
        "\\end{bmatrix}\n",
        "$$\n",
        "\n",
        "You cannot multiply matrices B and A because B has 3 columns and A has 2 rows:\n",
        "\n",
        "$$\n",
        "A =\n",
        "\\begin{bmatrix}\n",
        "    a  &  b      \\\\\n",
        "    c  &  d\n",
        "\\end{bmatrix} \\hspace{1cm}\n",
        "B =\n",
        "\\begin{bmatrix}\n",
        "    e  &  f  &  g      \\\\\n",
        "    h  &  i  &  j\n",
        "\\end{bmatrix}\n",
        "$$"
      ]
    },
    {
      "cell_type": "code",
      "metadata": {
        "id": "hioKNgFjq97i",
        "colab_type": "code",
        "outputId": "4efbeb36-0148-49a6-fbc1-d13f352aaf9e",
        "colab": {
          "base_uri": "https://localhost:8080/",
          "height": 51
        }
      },
      "source": [
        "import numpy as np\n",
        "\n",
        "# inputs\n",
        "x = np.array(([[2,1,8], [3,7,9]]))\n",
        "y = np.array(([[4,5], [11,12]]))\n",
        "xyz = [x, y]\n",
        "\n",
        "\n",
        "def multiply_matrices( list_of_matrices ):\n",
        "    l = len(list_of_matrices)\n",
        "\n",
        "    if l == 0:\n",
        "        print(\"Error: Empty List\")\n",
        "        return\n",
        "    \n",
        "    # list with only one matrix\n",
        "    if l == 1:\n",
        "        return list_of_matrices[0]\n",
        "\n",
        "    # variable for already multiplied matrices\n",
        "    temp = list_of_matrices[0]\n",
        "\n",
        "    i = 1\n",
        "    while i != l:\n",
        "        # check for matrix compatibility\n",
        "        if temp.shape[1] != list_of_matrices[i].shape[0]:\n",
        "            print(\"Error: Matrix \" + str(i - 1) + \" and \" + str(i) + \\\n",
        "                  \" are incompatible\")\n",
        "            return\n",
        "        \n",
        "        # perform multiplication\n",
        "        temp = np.matmul(temp, list_of_matrices[i])\n",
        "        i = i + 1\n",
        "    \n",
        "    return temp\n",
        "\n",
        "\n",
        "print(multiply_matrices(xyz))\n",
        "        \n",
        "\n"
      ],
      "execution_count": 9,
      "outputs": [
        {
          "output_type": "stream",
          "text": [
            "Error: Matrix 0 and 1 are incompatible\n",
            "None\n"
          ],
          "name": "stdout"
        }
      ]
    }
  ]
}