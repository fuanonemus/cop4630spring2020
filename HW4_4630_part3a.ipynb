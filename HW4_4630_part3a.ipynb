{
  "nbformat": 4,
  "nbformat_minor": 0,
  "metadata": {
    "colab": {
      "name": "HW4_4630_part3a.ipynb",
      "provenance": [],
      "collapsed_sections": [],
      "include_colab_link": true
    },
    "kernelspec": {
      "name": "python3",
      "display_name": "Python 3"
    },
    "accelerator": "GPU"
  },
  "cells": [
    {
      "cell_type": "markdown",
      "metadata": {
        "id": "view-in-github",
        "colab_type": "text"
      },
      "source": [
        "<a href=\"https://colab.research.google.com/github/fuanonemus/cop4630spring2020/blob/master/HW4_4630_part3a.ipynb\" target=\"_parent\"><img src=\"https://colab.research.google.com/assets/colab-badge.svg\" alt=\"Open In Colab\"/></a>"
      ]
    },
    {
      "cell_type": "markdown",
      "metadata": {
        "id": "7MARgdPFfhof",
        "colab_type": "text"
      },
      "source": [
        "this is a copy of https://colab.research.google.com/drive/1F-RWvoxH8MmT7c1UmNy41iuOp-ejiLoF edited for hw4 problem 3 in this part I used MobileNet as my pretrained convnet and added two classifiers after the relu dense layer: a softmax and an exponential. Examining the training images, the model appears to perform rather well on accuracy and loss, even if the accuracy data is rather strange. I think the delta like behavior stems from the use of the exponential classifier. I chose to fine tune three layers: conv_pw_7, conv_dw_10, and conv_dw_2_relu, a conv2d layer, DepthwiseConv2d layer, and relu layer respectively. Examining the fine tuned accuracy and loss graphs, it seems my fiddling had less adventageous effects, especially with the accuracy. I suspect this is due to the combination of softmax and exponential, that the model evens out rather than grows."
      ]
    },
    {
      "cell_type": "markdown",
      "metadata": {
        "id": "KSrgMJ5vKFzQ",
        "colab_type": "text"
      },
      "source": [
        "# Fine-tuning VGG16 "
      ]
    },
    {
      "cell_type": "markdown",
      "metadata": {
        "id": "TIW7bZaAK-Hf",
        "colab_type": "text"
      },
      "source": [
        "This is based on section 5.3 *Using a pretrained convnet* of the book *Deep learning with Python* by Francois Chollet. I have made several changes to the code. I use the data that is already provided by Google. I don't download the data from Kaggle as in the deep learning book."
      ]
    },
    {
      "cell_type": "markdown",
      "metadata": {
        "id": "nsBq__dVo2pj",
        "colab_type": "text"
      },
      "source": [
        "## Feature extraction"
      ]
    },
    {
      "cell_type": "markdown",
      "metadata": {
        "id": "0g6ETAM9o54M",
        "colab_type": "text"
      },
      "source": [
        "Feature extraction consists of using the representations learned by a previous network to extract interesting features from new samples. These features are then run through a new classifier, which is trained from scratch.\n",
        "\n",
        "We will use here the convolutional base of the VGG16 model to extract the features. We will feed these features to a densely connected classifier with dropout. We will fine-tune some layers."
      ]
    },
    {
      "cell_type": "markdown",
      "metadata": {
        "id": "BqIG8QHMLNOn",
        "colab_type": "text"
      },
      "source": [
        "## Download the data"
      ]
    },
    {
      "cell_type": "markdown",
      "metadata": {
        "id": "t3I1jd7cKV6_",
        "colab_type": "text"
      },
      "source": [
        "Download the example data, a zip. of 2,000 JPG pictures of cats and dogs and extract it locally in ```/tmp```.\n",
        "\n"
      ]
    },
    {
      "cell_type": "code",
      "metadata": {
        "id": "JWjprHEXJ5Qi",
        "colab_type": "code",
        "outputId": "c60932b9-ad30-41e1-edb3-1ce39bf6606c",
        "colab": {
          "base_uri": "https://localhost:8080/",
          "height": 224
        }
      },
      "source": [
        "!wget --no-check-certificate \\\n",
        "    https://storage.googleapis.com/mledu-datasets/cats_and_dogs_filtered.zip \\\n",
        "    -O /tmp/cats_and_dogs_filtered.zip"
      ],
      "execution_count": 37,
      "outputs": [
        {
          "output_type": "stream",
          "text": [
            "--2020-04-21 23:38:14--  https://storage.googleapis.com/mledu-datasets/cats_and_dogs_filtered.zip\n",
            "Resolving storage.googleapis.com (storage.googleapis.com)... 74.125.140.128, 2a00:1450:400c:c08::80\n",
            "Connecting to storage.googleapis.com (storage.googleapis.com)|74.125.140.128|:443... connected.\n",
            "HTTP request sent, awaiting response... 200 OK\n",
            "Length: 68606236 (65M) [application/zip]\n",
            "Saving to: ‘/tmp/cats_and_dogs_filtered.zip’\n",
            "\n",
            "/tmp/cats_and_dogs_ 100%[===================>]  65.43M  87.8MB/s    in 0.7s    \n",
            "\n",
            "2020-04-21 23:38:15 (87.8 MB/s) - ‘/tmp/cats_and_dogs_filtered.zip’ saved [68606236/68606236]\n",
            "\n"
          ],
          "name": "stdout"
        }
      ]
    },
    {
      "cell_type": "code",
      "metadata": {
        "id": "WvoHtdA-K6Rw",
        "colab_type": "code",
        "colab": {}
      },
      "source": [
        "import os\n",
        "import zipfile\n",
        "\n",
        "local_zip = '/tmp/cats_and_dogs_filtered.zip'\n",
        "zip_ref = zipfile.ZipFile(local_zip, 'r')\n",
        "zip_ref.extractall('/tmp')\n",
        "zip_ref.close()"
      ],
      "execution_count": 0,
      "outputs": []
    },
    {
      "cell_type": "markdown",
      "metadata": {
        "id": "shZiOBnJMyy_",
        "colab_type": "text"
      },
      "source": [
        "Note that the data provided by Google does not have a test set."
      ]
    },
    {
      "cell_type": "code",
      "metadata": {
        "id": "dL8ikM89LlsH",
        "colab_type": "code",
        "colab": {}
      },
      "source": [
        "base_dir = '/tmp/cats_and_dogs_filtered'\n",
        "train_dir = os.path.join(base_dir, 'train')\n",
        "validation_dir = os.path.join(base_dir, 'validation')\n",
        "\n",
        "# Directory with our training cat pictures\n",
        "train_cats_dir = os.path.join(train_dir, 'cats')\n",
        "\n",
        "# Directory with our training dog pictures\n",
        "train_dogs_dir = os.path.join(train_dir, 'dogs')\n",
        "\n",
        "# Directory with our validation cat pictures\n",
        "validation_cats_dir = os.path.join(validation_dir, 'cats')\n",
        "\n",
        "# Directory with our validation dog pictures\n",
        "validation_dogs_dir = os.path.join(validation_dir, 'dogs')"
      ],
      "execution_count": 0,
      "outputs": []
    },
    {
      "cell_type": "markdown",
      "metadata": {
        "id": "inyP8bcdXnn-",
        "colab_type": "text"
      },
      "source": [
        "## Build network with VGG16 convolution base and custom densely connected layers"
      ]
    },
    {
      "cell_type": "markdown",
      "metadata": {
        "id": "kQ48W5T9rHWu",
        "colab_type": "text"
      },
      "source": [
        "### Load the convolutional base"
      ]
    },
    {
      "cell_type": "code",
      "metadata": {
        "id": "Y0FgtANCXm_H",
        "colab_type": "code",
        "outputId": "bc3f97ed-8490-40ae-b9e0-a145e849f4ed",
        "colab": {
          "base_uri": "https://localhost:8080/",
          "height": 71
        }
      },
      "source": [
        "from keras.applications import MobileNet\n",
        "\n",
        "conv_base = MobileNet(\n",
        "    weights='imagenet', \n",
        "    include_top=False, \n",
        "    input_shape=(150, 150, 3))"
      ],
      "execution_count": 40,
      "outputs": [
        {
          "output_type": "stream",
          "text": [
            "/usr/local/lib/python3.6/dist-packages/keras_applications/mobilenet.py:207: UserWarning: `input_shape` is undefined or non-square, or `rows` is not in [128, 160, 192, 224]. Weights for input shape (224, 224) will be loaded as the default.\n",
            "  warnings.warn('`input_shape` is undefined or non-square, '\n"
          ],
          "name": "stderr"
        }
      ]
    },
    {
      "cell_type": "markdown",
      "metadata": {
        "id": "D6OBHOO9q1ou",
        "colab_type": "text"
      },
      "source": [
        "### Freeze the convolutional base"
      ]
    },
    {
      "cell_type": "code",
      "metadata": {
        "id": "UleRo4Dpq6Ld",
        "colab_type": "code",
        "colab": {}
      },
      "source": [
        "conv_base.trainable = False"
      ],
      "execution_count": 0,
      "outputs": []
    },
    {
      "cell_type": "markdown",
      "metadata": {
        "id": "Qfx6PqhPrb7Q",
        "colab_type": "text"
      },
      "source": [
        "### Concatenate the convolutional base and densely connected layers"
      ]
    },
    {
      "cell_type": "code",
      "metadata": {
        "id": "qUpmocDAO3xm",
        "colab_type": "code",
        "colab": {}
      },
      "source": [
        "from keras import layers\n",
        "from keras import models\n",
        "from keras import optimizers\n",
        "\n",
        "model = models.Sequential()\n",
        "model.add(conv_base)\n",
        "model.add(layers.Flatten())\n",
        "model.add(layers.Dense(256, activation='relu'))\n",
        "model.add(layers.Dense(128, activation='softmax'))\n",
        "model.add(layers.Dense(64, activation='exponential'))\n",
        "#model.add(layers.Dropout(0.1))\n",
        "model.add(layers.Dense(1, activation='sigmoid'))"
      ],
      "execution_count": 0,
      "outputs": []
    },
    {
      "cell_type": "code",
      "metadata": {
        "id": "Fh6gZSeAjF7c",
        "colab_type": "code",
        "outputId": "e21cee05-556a-4f14-9d9b-601f3743287f",
        "colab": {
          "base_uri": "https://localhost:8080/",
          "height": 1000
        }
      },
      "source": [
        "model.summary()\n",
        "conv_base.summary()"
      ],
      "execution_count": 43,
      "outputs": [
        {
          "output_type": "stream",
          "text": [
            "Model: \"sequential_4\"\n",
            "_________________________________________________________________\n",
            "Layer (type)                 Output Shape              Param #   \n",
            "=================================================================\n",
            "mobilenet_1.00_224 (Model)   (None, 4, 4, 1024)        3228864   \n",
            "_________________________________________________________________\n",
            "flatten_4 (Flatten)          (None, 16384)             0         \n",
            "_________________________________________________________________\n",
            "dense_11 (Dense)             (None, 256)               4194560   \n",
            "_________________________________________________________________\n",
            "dense_12 (Dense)             (None, 128)               32896     \n",
            "_________________________________________________________________\n",
            "dense_13 (Dense)             (None, 64)                8256      \n",
            "_________________________________________________________________\n",
            "dense_14 (Dense)             (None, 1)                 65        \n",
            "=================================================================\n",
            "Total params: 7,464,641\n",
            "Trainable params: 4,235,777\n",
            "Non-trainable params: 3,228,864\n",
            "_________________________________________________________________\n",
            "Model: \"mobilenet_1.00_224\"\n",
            "_________________________________________________________________\n",
            "Layer (type)                 Output Shape              Param #   \n",
            "=================================================================\n",
            "input_4 (InputLayer)         (None, 150, 150, 3)       0         \n",
            "_________________________________________________________________\n",
            "conv1_pad (ZeroPadding2D)    (None, 151, 151, 3)       0         \n",
            "_________________________________________________________________\n",
            "conv1 (Conv2D)               (None, 75, 75, 32)        864       \n",
            "_________________________________________________________________\n",
            "conv1_bn (BatchNormalization (None, 75, 75, 32)        128       \n",
            "_________________________________________________________________\n",
            "conv1_relu (ReLU)            (None, 75, 75, 32)        0         \n",
            "_________________________________________________________________\n",
            "conv_dw_1 (DepthwiseConv2D)  (None, 75, 75, 32)        288       \n",
            "_________________________________________________________________\n",
            "conv_dw_1_bn (BatchNormaliza (None, 75, 75, 32)        128       \n",
            "_________________________________________________________________\n",
            "conv_dw_1_relu (ReLU)        (None, 75, 75, 32)        0         \n",
            "_________________________________________________________________\n",
            "conv_pw_1 (Conv2D)           (None, 75, 75, 64)        2048      \n",
            "_________________________________________________________________\n",
            "conv_pw_1_bn (BatchNormaliza (None, 75, 75, 64)        256       \n",
            "_________________________________________________________________\n",
            "conv_pw_1_relu (ReLU)        (None, 75, 75, 64)        0         \n",
            "_________________________________________________________________\n",
            "conv_pad_2 (ZeroPadding2D)   (None, 76, 76, 64)        0         \n",
            "_________________________________________________________________\n",
            "conv_dw_2 (DepthwiseConv2D)  (None, 37, 37, 64)        576       \n",
            "_________________________________________________________________\n",
            "conv_dw_2_bn (BatchNormaliza (None, 37, 37, 64)        256       \n",
            "_________________________________________________________________\n",
            "conv_dw_2_relu (ReLU)        (None, 37, 37, 64)        0         \n",
            "_________________________________________________________________\n",
            "conv_pw_2 (Conv2D)           (None, 37, 37, 128)       8192      \n",
            "_________________________________________________________________\n",
            "conv_pw_2_bn (BatchNormaliza (None, 37, 37, 128)       512       \n",
            "_________________________________________________________________\n",
            "conv_pw_2_relu (ReLU)        (None, 37, 37, 128)       0         \n",
            "_________________________________________________________________\n",
            "conv_dw_3 (DepthwiseConv2D)  (None, 37, 37, 128)       1152      \n",
            "_________________________________________________________________\n",
            "conv_dw_3_bn (BatchNormaliza (None, 37, 37, 128)       512       \n",
            "_________________________________________________________________\n",
            "conv_dw_3_relu (ReLU)        (None, 37, 37, 128)       0         \n",
            "_________________________________________________________________\n",
            "conv_pw_3 (Conv2D)           (None, 37, 37, 128)       16384     \n",
            "_________________________________________________________________\n",
            "conv_pw_3_bn (BatchNormaliza (None, 37, 37, 128)       512       \n",
            "_________________________________________________________________\n",
            "conv_pw_3_relu (ReLU)        (None, 37, 37, 128)       0         \n",
            "_________________________________________________________________\n",
            "conv_pad_4 (ZeroPadding2D)   (None, 38, 38, 128)       0         \n",
            "_________________________________________________________________\n",
            "conv_dw_4 (DepthwiseConv2D)  (None, 18, 18, 128)       1152      \n",
            "_________________________________________________________________\n",
            "conv_dw_4_bn (BatchNormaliza (None, 18, 18, 128)       512       \n",
            "_________________________________________________________________\n",
            "conv_dw_4_relu (ReLU)        (None, 18, 18, 128)       0         \n",
            "_________________________________________________________________\n",
            "conv_pw_4 (Conv2D)           (None, 18, 18, 256)       32768     \n",
            "_________________________________________________________________\n",
            "conv_pw_4_bn (BatchNormaliza (None, 18, 18, 256)       1024      \n",
            "_________________________________________________________________\n",
            "conv_pw_4_relu (ReLU)        (None, 18, 18, 256)       0         \n",
            "_________________________________________________________________\n",
            "conv_dw_5 (DepthwiseConv2D)  (None, 18, 18, 256)       2304      \n",
            "_________________________________________________________________\n",
            "conv_dw_5_bn (BatchNormaliza (None, 18, 18, 256)       1024      \n",
            "_________________________________________________________________\n",
            "conv_dw_5_relu (ReLU)        (None, 18, 18, 256)       0         \n",
            "_________________________________________________________________\n",
            "conv_pw_5 (Conv2D)           (None, 18, 18, 256)       65536     \n",
            "_________________________________________________________________\n",
            "conv_pw_5_bn (BatchNormaliza (None, 18, 18, 256)       1024      \n",
            "_________________________________________________________________\n",
            "conv_pw_5_relu (ReLU)        (None, 18, 18, 256)       0         \n",
            "_________________________________________________________________\n",
            "conv_pad_6 (ZeroPadding2D)   (None, 19, 19, 256)       0         \n",
            "_________________________________________________________________\n",
            "conv_dw_6 (DepthwiseConv2D)  (None, 9, 9, 256)         2304      \n",
            "_________________________________________________________________\n",
            "conv_dw_6_bn (BatchNormaliza (None, 9, 9, 256)         1024      \n",
            "_________________________________________________________________\n",
            "conv_dw_6_relu (ReLU)        (None, 9, 9, 256)         0         \n",
            "_________________________________________________________________\n",
            "conv_pw_6 (Conv2D)           (None, 9, 9, 512)         131072    \n",
            "_________________________________________________________________\n",
            "conv_pw_6_bn (BatchNormaliza (None, 9, 9, 512)         2048      \n",
            "_________________________________________________________________\n",
            "conv_pw_6_relu (ReLU)        (None, 9, 9, 512)         0         \n",
            "_________________________________________________________________\n",
            "conv_dw_7 (DepthwiseConv2D)  (None, 9, 9, 512)         4608      \n",
            "_________________________________________________________________\n",
            "conv_dw_7_bn (BatchNormaliza (None, 9, 9, 512)         2048      \n",
            "_________________________________________________________________\n",
            "conv_dw_7_relu (ReLU)        (None, 9, 9, 512)         0         \n",
            "_________________________________________________________________\n",
            "conv_pw_7 (Conv2D)           (None, 9, 9, 512)         262144    \n",
            "_________________________________________________________________\n",
            "conv_pw_7_bn (BatchNormaliza (None, 9, 9, 512)         2048      \n",
            "_________________________________________________________________\n",
            "conv_pw_7_relu (ReLU)        (None, 9, 9, 512)         0         \n",
            "_________________________________________________________________\n",
            "conv_dw_8 (DepthwiseConv2D)  (None, 9, 9, 512)         4608      \n",
            "_________________________________________________________________\n",
            "conv_dw_8_bn (BatchNormaliza (None, 9, 9, 512)         2048      \n",
            "_________________________________________________________________\n",
            "conv_dw_8_relu (ReLU)        (None, 9, 9, 512)         0         \n",
            "_________________________________________________________________\n",
            "conv_pw_8 (Conv2D)           (None, 9, 9, 512)         262144    \n",
            "_________________________________________________________________\n",
            "conv_pw_8_bn (BatchNormaliza (None, 9, 9, 512)         2048      \n",
            "_________________________________________________________________\n",
            "conv_pw_8_relu (ReLU)        (None, 9, 9, 512)         0         \n",
            "_________________________________________________________________\n",
            "conv_dw_9 (DepthwiseConv2D)  (None, 9, 9, 512)         4608      \n",
            "_________________________________________________________________\n",
            "conv_dw_9_bn (BatchNormaliza (None, 9, 9, 512)         2048      \n",
            "_________________________________________________________________\n",
            "conv_dw_9_relu (ReLU)        (None, 9, 9, 512)         0         \n",
            "_________________________________________________________________\n",
            "conv_pw_9 (Conv2D)           (None, 9, 9, 512)         262144    \n",
            "_________________________________________________________________\n",
            "conv_pw_9_bn (BatchNormaliza (None, 9, 9, 512)         2048      \n",
            "_________________________________________________________________\n",
            "conv_pw_9_relu (ReLU)        (None, 9, 9, 512)         0         \n",
            "_________________________________________________________________\n",
            "conv_dw_10 (DepthwiseConv2D) (None, 9, 9, 512)         4608      \n",
            "_________________________________________________________________\n",
            "conv_dw_10_bn (BatchNormaliz (None, 9, 9, 512)         2048      \n",
            "_________________________________________________________________\n",
            "conv_dw_10_relu (ReLU)       (None, 9, 9, 512)         0         \n",
            "_________________________________________________________________\n",
            "conv_pw_10 (Conv2D)          (None, 9, 9, 512)         262144    \n",
            "_________________________________________________________________\n",
            "conv_pw_10_bn (BatchNormaliz (None, 9, 9, 512)         2048      \n",
            "_________________________________________________________________\n",
            "conv_pw_10_relu (ReLU)       (None, 9, 9, 512)         0         \n",
            "_________________________________________________________________\n",
            "conv_dw_11 (DepthwiseConv2D) (None, 9, 9, 512)         4608      \n",
            "_________________________________________________________________\n",
            "conv_dw_11_bn (BatchNormaliz (None, 9, 9, 512)         2048      \n",
            "_________________________________________________________________\n",
            "conv_dw_11_relu (ReLU)       (None, 9, 9, 512)         0         \n",
            "_________________________________________________________________\n",
            "conv_pw_11 (Conv2D)          (None, 9, 9, 512)         262144    \n",
            "_________________________________________________________________\n",
            "conv_pw_11_bn (BatchNormaliz (None, 9, 9, 512)         2048      \n",
            "_________________________________________________________________\n",
            "conv_pw_11_relu (ReLU)       (None, 9, 9, 512)         0         \n",
            "_________________________________________________________________\n",
            "conv_pad_12 (ZeroPadding2D)  (None, 10, 10, 512)       0         \n",
            "_________________________________________________________________\n",
            "conv_dw_12 (DepthwiseConv2D) (None, 4, 4, 512)         4608      \n",
            "_________________________________________________________________\n",
            "conv_dw_12_bn (BatchNormaliz (None, 4, 4, 512)         2048      \n",
            "_________________________________________________________________\n",
            "conv_dw_12_relu (ReLU)       (None, 4, 4, 512)         0         \n",
            "_________________________________________________________________\n",
            "conv_pw_12 (Conv2D)          (None, 4, 4, 1024)        524288    \n",
            "_________________________________________________________________\n",
            "conv_pw_12_bn (BatchNormaliz (None, 4, 4, 1024)        4096      \n",
            "_________________________________________________________________\n",
            "conv_pw_12_relu (ReLU)       (None, 4, 4, 1024)        0         \n",
            "_________________________________________________________________\n",
            "conv_dw_13 (DepthwiseConv2D) (None, 4, 4, 1024)        9216      \n",
            "_________________________________________________________________\n",
            "conv_dw_13_bn (BatchNormaliz (None, 4, 4, 1024)        4096      \n",
            "_________________________________________________________________\n",
            "conv_dw_13_relu (ReLU)       (None, 4, 4, 1024)        0         \n",
            "_________________________________________________________________\n",
            "conv_pw_13 (Conv2D)          (None, 4, 4, 1024)        1048576   \n",
            "_________________________________________________________________\n",
            "conv_pw_13_bn (BatchNormaliz (None, 4, 4, 1024)        4096      \n",
            "_________________________________________________________________\n",
            "conv_pw_13_relu (ReLU)       (None, 4, 4, 1024)        0         \n",
            "=================================================================\n",
            "Total params: 3,228,864\n",
            "Trainable params: 0\n",
            "Non-trainable params: 3,228,864\n",
            "_________________________________________________________________\n"
          ],
          "name": "stdout"
        }
      ]
    },
    {
      "cell_type": "markdown",
      "metadata": {
        "id": "eZjBiddhi5Qj",
        "colab_type": "text"
      },
      "source": [
        "## Train the model end to end with frozen convolutional base"
      ]
    },
    {
      "cell_type": "code",
      "metadata": {
        "id": "tfAQlC2Oi41L",
        "colab_type": "code",
        "outputId": "8d710a30-8e68-40a8-854d-af47897baf53",
        "colab": {
          "base_uri": "https://localhost:8080/",
          "height": 1000
        }
      },
      "source": [
        "from keras.preprocessing.image import ImageDataGenerator\n",
        "from keras import optimizers\n",
        "\n",
        "# data augmentation\n",
        "\n",
        "train_datagen = ImageDataGenerator(\n",
        "    rescale=1./255, \n",
        "    rotation_range=40,\n",
        "    width_shift_range=0.2,\n",
        "    height_shift_range=0.2,\n",
        "    shear_range=0.2,\n",
        "    zoom_range=0.2,\n",
        "    horizontal_flip=True,\n",
        "    fill_mode='nearest'\n",
        ")\n",
        "\n",
        "train_generator = train_datagen.flow_from_directory(\n",
        "    train_dir,\n",
        "    target_size=(150, 150),\n",
        "    batch_size=20,\n",
        "    class_mode='binary')\n",
        "\n",
        "validation_datagen = ImageDataGenerator(rescale=1./255)\n",
        "\n",
        "validation_generator = validation_datagen.flow_from_directory(\n",
        "    validation_dir,\n",
        "    target_size=(150, 150),\n",
        "    batch_size=20,\n",
        "    class_mode='binary')\n",
        "\n",
        "# compile model\n",
        "\n",
        "model.compile(\n",
        "    loss='binary_crossentropy', \n",
        "    optimizer=optimizers.RMSprop(lr=2e-5), \n",
        "    metrics=['acc'])\n",
        "\n",
        "# train\n",
        "\n",
        "history = model.fit_generator(\n",
        "    train_generator,\n",
        "    steps_per_epoch=100,\n",
        "    epochs=30,\n",
        "    validation_data=validation_generator,\n",
        "    validation_steps=50\n",
        ")"
      ],
      "execution_count": 44,
      "outputs": [
        {
          "output_type": "stream",
          "text": [
            "Found 2000 images belonging to 2 classes.\n",
            "Found 1000 images belonging to 2 classes.\n",
            "Epoch 1/30\n",
            "100/100 [==============================] - 21s 210ms/step - loss: 0.9368 - acc: 0.5000 - val_loss: 1.0308 - val_acc: 0.5000\n",
            "Epoch 2/30\n",
            "100/100 [==============================] - 18s 181ms/step - loss: 0.8784 - acc: 0.5000 - val_loss: 0.7233 - val_acc: 0.5000\n",
            "Epoch 3/30\n",
            "100/100 [==============================] - 18s 180ms/step - loss: 0.8281 - acc: 0.5000 - val_loss: 0.7916 - val_acc: 0.5000\n",
            "Epoch 4/30\n",
            "100/100 [==============================] - 18s 180ms/step - loss: 0.7836 - acc: 0.5000 - val_loss: 0.8578 - val_acc: 0.5000\n",
            "Epoch 5/30\n",
            "100/100 [==============================] - 18s 180ms/step - loss: 0.7434 - acc: 0.5000 - val_loss: 0.6463 - val_acc: 0.5000\n",
            "Epoch 6/30\n",
            "100/100 [==============================] - 18s 179ms/step - loss: 0.7094 - acc: 0.5000 - val_loss: 0.6684 - val_acc: 0.5000\n",
            "Epoch 7/30\n",
            "100/100 [==============================] - 18s 180ms/step - loss: 0.6768 - acc: 0.5000 - val_loss: 0.6391 - val_acc: 0.5000\n",
            "Epoch 8/30\n",
            "100/100 [==============================] - 18s 179ms/step - loss: 0.6481 - acc: 0.5000 - val_loss: 0.6864 - val_acc: 0.5000\n",
            "Epoch 9/30\n",
            "100/100 [==============================] - 18s 179ms/step - loss: 0.6255 - acc: 0.5000 - val_loss: 0.6962 - val_acc: 0.5000\n",
            "Epoch 10/30\n",
            "100/100 [==============================] - 18s 181ms/step - loss: 0.6030 - acc: 0.5000 - val_loss: 0.6649 - val_acc: 0.5000\n",
            "Epoch 11/30\n",
            "100/100 [==============================] - 18s 179ms/step - loss: 0.5905 - acc: 0.5285 - val_loss: 0.5710 - val_acc: 0.9280\n",
            "Epoch 12/30\n",
            "100/100 [==============================] - 18s 179ms/step - loss: 0.5724 - acc: 0.9150 - val_loss: 0.5631 - val_acc: 0.9530\n",
            "Epoch 13/30\n",
            "100/100 [==============================] - 18s 179ms/step - loss: 0.5626 - acc: 0.9175 - val_loss: 0.5526 - val_acc: 0.9580\n",
            "Epoch 14/30\n",
            "100/100 [==============================] - 18s 182ms/step - loss: 0.5548 - acc: 0.9140 - val_loss: 0.5107 - val_acc: 0.9660\n",
            "Epoch 15/30\n",
            "100/100 [==============================] - 18s 180ms/step - loss: 0.5413 - acc: 0.9285 - val_loss: 0.5147 - val_acc: 0.9520\n",
            "Epoch 16/30\n",
            "100/100 [==============================] - 18s 179ms/step - loss: 0.5337 - acc: 0.9255 - val_loss: 0.5083 - val_acc: 0.9510\n",
            "Epoch 17/30\n",
            "100/100 [==============================] - 18s 180ms/step - loss: 0.5276 - acc: 0.9260 - val_loss: 0.4819 - val_acc: 0.9660\n",
            "Epoch 18/30\n",
            "100/100 [==============================] - 18s 181ms/step - loss: 0.5251 - acc: 0.9150 - val_loss: 0.4848 - val_acc: 0.9670\n",
            "Epoch 19/30\n",
            "100/100 [==============================] - 18s 180ms/step - loss: 0.5166 - acc: 0.9205 - val_loss: 0.4743 - val_acc: 0.9640\n",
            "Epoch 20/30\n",
            "100/100 [==============================] - 18s 180ms/step - loss: 0.5094 - acc: 0.9225 - val_loss: 0.4918 - val_acc: 0.9610\n",
            "Epoch 21/30\n",
            "100/100 [==============================] - 18s 180ms/step - loss: 0.5030 - acc: 0.9230 - val_loss: 0.4593 - val_acc: 0.9670\n",
            "Epoch 22/30\n",
            "100/100 [==============================] - 18s 180ms/step - loss: 0.4933 - acc: 0.9290 - val_loss: 0.4788 - val_acc: 0.9670\n",
            "Epoch 23/30\n",
            "100/100 [==============================] - 18s 180ms/step - loss: 0.4942 - acc: 0.9175 - val_loss: 0.4442 - val_acc: 0.9630\n",
            "Epoch 24/30\n",
            "100/100 [==============================] - 18s 180ms/step - loss: 0.4831 - acc: 0.9270 - val_loss: 0.4663 - val_acc: 0.9650\n",
            "Epoch 25/30\n",
            "100/100 [==============================] - 18s 179ms/step - loss: 0.4766 - acc: 0.9250 - val_loss: 0.4284 - val_acc: 0.9630\n",
            "Epoch 26/30\n",
            "100/100 [==============================] - 18s 180ms/step - loss: 0.4686 - acc: 0.9290 - val_loss: 0.4567 - val_acc: 0.9660\n",
            "Epoch 27/30\n",
            "100/100 [==============================] - 18s 180ms/step - loss: 0.4576 - acc: 0.9400 - val_loss: 0.4160 - val_acc: 0.9660\n",
            "Epoch 28/30\n",
            "100/100 [==============================] - 18s 180ms/step - loss: 0.4564 - acc: 0.9315 - val_loss: 0.4081 - val_acc: 0.9650\n",
            "Epoch 29/30\n",
            "100/100 [==============================] - 18s 178ms/step - loss: 0.4529 - acc: 0.9280 - val_loss: 0.3976 - val_acc: 0.9650\n",
            "Epoch 30/30\n",
            "100/100 [==============================] - 18s 180ms/step - loss: 0.4541 - acc: 0.9170 - val_loss: 0.3943 - val_acc: 0.9660\n"
          ],
          "name": "stdout"
        }
      ]
    },
    {
      "cell_type": "markdown",
      "metadata": {
        "id": "xqRc_vHKc92U",
        "colab_type": "text"
      },
      "source": [
        "## Display curves of loss and accuracy during training"
      ]
    },
    {
      "cell_type": "code",
      "metadata": {
        "id": "ybWwdzz9bwuQ",
        "colab_type": "code",
        "outputId": "a2bbdee0-44d3-4e1e-ab13-97e33d576a6d",
        "colab": {
          "base_uri": "https://localhost:8080/",
          "height": 545
        }
      },
      "source": [
        "%matplotlib inline\n",
        "\n",
        "import matplotlib.pyplot as plt\n",
        "\n",
        "acc = history.history['acc']\n",
        "val_acc = history.history['val_acc']\n",
        "\n",
        "loss = history.history['loss']\n",
        "val_loss = history.history['val_loss']\n",
        "\n",
        "epochs = range(1, len(acc) + 1)\n",
        "\n",
        "# training and validation accuracy\n",
        "\n",
        "plt.plot(epochs, acc, 'bo', label='training acc')\n",
        "plt.plot(epochs, val_acc, 'b', label='validation acc')\n",
        "plt.title('training and validation accuracy')\n",
        "plt.legend()\n",
        "\n",
        "plt.figure()\n",
        "\n",
        "# training and validation loss\n",
        "\n",
        "plt.plot(epochs, loss, 'bo', label='training loss')\n",
        "plt.plot(epochs, val_loss, 'b', label='validation loss')\n",
        "plt.title('training and validation loss')\n",
        "plt.legend()\n",
        "\n",
        "plt.show()"
      ],
      "execution_count": 45,
      "outputs": [
        {
          "output_type": "display_data",
          "data": {
            "image/png": "[encoded data removed]",
            "text/plain": [
              "<Figure size 432x288 with 1 Axes>"
            ]
          },
          "metadata": {
            "tags": [],
            "needs_background": "light"
          }
        },
        {
          "output_type": "display_data",
          "data": {
            "image/png": "[encoded data removed]",
            "text/plain": [
              "<Figure size 432x288 with 1 Axes>"
            ]
          },
          "metadata": {
            "tags": [],
            "needs_background": "light"
          }
        }
      ]
    },
    {
      "cell_type": "markdown",
      "metadata": {
        "id": "lOWsxpey8lN0",
        "colab_type": "text"
      },
      "source": [
        "## Fine-tuning"
      ]
    },
    {
      "cell_type": "code",
      "metadata": {
        "id": "PwkVMx8N8qMw",
        "colab_type": "code",
        "colab": {}
      },
      "source": [
        "conv_base.trainable = True\n",
        "\n",
        "for layer in conv_base.layers:\n",
        "  if layer.name == 'conv_pw_7' or layer.name == 'conv_dw_10' or layer.name == 'conv_dw_2_relu':\n",
        "    layer.trainable = True\n",
        "  else:\n",
        "    layer.trainabletrainable = False"
      ],
      "execution_count": 0,
      "outputs": []
    },
    {
      "cell_type": "code",
      "metadata": {
        "id": "DyN-J7rs9cvo",
        "colab_type": "code",
        "outputId": "e3bf9861-0cf7-4bc0-df42-da6eef4fd468",
        "colab": {
          "base_uri": "https://localhost:8080/",
          "height": 1000
        }
      },
      "source": [
        "# compile model\n",
        "\n",
        "model.compile(\n",
        "    loss='binary_crossentropy',\n",
        "    #\n",
        "    # choose a smaller learning rate\n",
        "    #\n",
        "    optimizer=optimizers.RMSprop(lr=1e-5), \n",
        "    metrics=['acc'])\n",
        "\n",
        "# train\n",
        "\n",
        "history = model.fit_generator(\n",
        "    train_generator,\n",
        "    steps_per_epoch=100,\n",
        "    epochs=100,\n",
        "    validation_data=validation_generator,\n",
        "    validation_steps=50)"
      ],
      "execution_count": 48,
      "outputs": [
        {
          "output_type": "stream",
          "text": [
            "Epoch 1/100\n",
            "100/100 [==============================] - 28s 277ms/step - loss: 0.4402 - acc: 0.9345 - val_loss: 0.4270 - val_acc: 0.9610\n",
            "Epoch 2/100\n",
            "100/100 [==============================] - 21s 215ms/step - loss: 0.4381 - acc: 0.9325 - val_loss: 0.4364 - val_acc: 0.9620\n",
            "Epoch 3/100\n",
            "100/100 [==============================] - 21s 214ms/step - loss: 0.4338 - acc: 0.9335 - val_loss: 0.4205 - val_acc: 0.9560\n",
            "Epoch 4/100\n",
            "100/100 [==============================] - 21s 214ms/step - loss: 0.4346 - acc: 0.9280 - val_loss: 0.4880 - val_acc: 0.9640\n",
            "Epoch 5/100\n",
            "100/100 [==============================] - 21s 215ms/step - loss: 0.4280 - acc: 0.9320 - val_loss: 0.4191 - val_acc: 0.9670\n",
            "Epoch 6/100\n",
            "100/100 [==============================] - 22s 215ms/step - loss: 0.4202 - acc: 0.9415 - val_loss: 0.4127 - val_acc: 0.9590\n",
            "Epoch 7/100\n",
            "100/100 [==============================] - 21s 214ms/step - loss: 0.4130 - acc: 0.9470 - val_loss: 0.3704 - val_acc: 0.9590\n",
            "Epoch 8/100\n",
            "100/100 [==============================] - 22s 216ms/step - loss: 0.4083 - acc: 0.9495 - val_loss: 0.3665 - val_acc: 0.9610\n",
            "Epoch 9/100\n",
            "100/100 [==============================] - 21s 215ms/step - loss: 0.4122 - acc: 0.9385 - val_loss: 0.3637 - val_acc: 0.9620\n",
            "Epoch 10/100\n",
            "100/100 [==============================] - 21s 213ms/step - loss: 0.4108 - acc: 0.9380 - val_loss: 0.4283 - val_acc: 0.9630\n",
            "Epoch 11/100\n",
            "100/100 [==============================] - 21s 215ms/step - loss: 0.4006 - acc: 0.9500 - val_loss: 0.4371 - val_acc: 0.9650\n",
            "Epoch 12/100\n",
            "100/100 [==============================] - 21s 215ms/step - loss: 0.3979 - acc: 0.9470 - val_loss: 0.3526 - val_acc: 0.9660\n",
            "Epoch 13/100\n",
            "100/100 [==============================] - 21s 213ms/step - loss: 0.3904 - acc: 0.9540 - val_loss: 0.4064 - val_acc: 0.9620\n",
            "Epoch 14/100\n",
            "100/100 [==============================] - 22s 217ms/step - loss: 0.3941 - acc: 0.9440 - val_loss: 0.3736 - val_acc: 0.9660\n",
            "Epoch 15/100\n",
            "100/100 [==============================] - 21s 214ms/step - loss: 0.3839 - acc: 0.9535 - val_loss: 0.3429 - val_acc: 0.9680\n",
            "Epoch 16/100\n",
            "100/100 [==============================] - 22s 215ms/step - loss: 0.3849 - acc: 0.9495 - val_loss: 0.3860 - val_acc: 0.9560\n",
            "Epoch 17/100\n",
            "100/100 [==============================] - 21s 215ms/step - loss: 0.3751 - acc: 0.9575 - val_loss: 0.5129 - val_acc: 0.9580\n",
            "Epoch 18/100\n",
            "100/100 [==============================] - 22s 215ms/step - loss: 0.3823 - acc: 0.9470 - val_loss: 0.3555 - val_acc: 0.9670\n",
            "Epoch 19/100\n",
            "100/100 [==============================] - 21s 215ms/step - loss: 0.3724 - acc: 0.9540 - val_loss: 0.3296 - val_acc: 0.9630\n",
            "Epoch 20/100\n",
            "100/100 [==============================] - 21s 214ms/step - loss: 0.3752 - acc: 0.9480 - val_loss: 0.3790 - val_acc: 0.9640\n",
            "Epoch 21/100\n",
            "100/100 [==============================] - 21s 214ms/step - loss: 0.3627 - acc: 0.9615 - val_loss: 0.3229 - val_acc: 0.9630\n",
            "Epoch 22/100\n",
            "100/100 [==============================] - 21s 214ms/step - loss: 0.3690 - acc: 0.9505 - val_loss: 0.4190 - val_acc: 0.9600\n",
            "Epoch 23/100\n",
            "100/100 [==============================] - 21s 215ms/step - loss: 0.3562 - acc: 0.9615 - val_loss: 0.3211 - val_acc: 0.9700\n",
            "Epoch 24/100\n",
            "100/100 [==============================] - 21s 215ms/step - loss: 0.3559 - acc: 0.9580 - val_loss: 0.4127 - val_acc: 0.9630\n",
            "Epoch 25/100\n",
            "100/100 [==============================] - 22s 215ms/step - loss: 0.3526 - acc: 0.9590 - val_loss: 0.3124 - val_acc: 0.9650\n",
            "Epoch 26/100\n",
            "100/100 [==============================] - 21s 214ms/step - loss: 0.3496 - acc: 0.9575 - val_loss: 0.3086 - val_acc: 0.9660\n",
            "Epoch 27/100\n",
            "100/100 [==============================] - 21s 215ms/step - loss: 0.3431 - acc: 0.9615 - val_loss: 0.3317 - val_acc: 0.9690\n",
            "Epoch 28/100\n",
            "100/100 [==============================] - 22s 216ms/step - loss: 0.3485 - acc: 0.9550 - val_loss: 0.3534 - val_acc: 0.9630\n",
            "Epoch 29/100\n",
            "100/100 [==============================] - 21s 214ms/step - loss: 0.3366 - acc: 0.9625 - val_loss: 0.3657 - val_acc: 0.9680\n",
            "Epoch 30/100\n",
            "100/100 [==============================] - 21s 215ms/step - loss: 0.3385 - acc: 0.9585 - val_loss: 0.2959 - val_acc: 0.9610\n",
            "Epoch 31/100\n",
            "100/100 [==============================] - 21s 214ms/step - loss: 0.3388 - acc: 0.9550 - val_loss: 0.2944 - val_acc: 0.9710\n",
            "Epoch 32/100\n",
            "100/100 [==============================] - 21s 214ms/step - loss: 0.3328 - acc: 0.9590 - val_loss: 0.2877 - val_acc: 0.9620\n",
            "Epoch 33/100\n",
            "100/100 [==============================] - 21s 215ms/step - loss: 0.3389 - acc: 0.9530 - val_loss: 0.2875 - val_acc: 0.9650\n",
            "Epoch 34/100\n",
            "100/100 [==============================] - 21s 213ms/step - loss: 0.3254 - acc: 0.9615 - val_loss: 0.2828 - val_acc: 0.9700\n",
            "Epoch 35/100\n",
            "100/100 [==============================] - 21s 214ms/step - loss: 0.3277 - acc: 0.9560 - val_loss: 0.3107 - val_acc: 0.9680\n",
            "Epoch 36/100\n",
            "100/100 [==============================] - 22s 215ms/step - loss: 0.3200 - acc: 0.9620 - val_loss: 0.2782 - val_acc: 0.9700\n",
            "Epoch 37/100\n",
            "100/100 [==============================] - 22s 215ms/step - loss: 0.3131 - acc: 0.9670 - val_loss: 0.2748 - val_acc: 0.9720\n",
            "Epoch 38/100\n",
            "100/100 [==============================] - 21s 215ms/step - loss: 0.3058 - acc: 0.9715 - val_loss: 0.2802 - val_acc: 0.9690\n",
            "Epoch 39/100\n",
            "100/100 [==============================] - 21s 215ms/step - loss: 0.3044 - acc: 0.9700 - val_loss: 0.2692 - val_acc: 0.9680\n",
            "Epoch 40/100\n",
            "100/100 [==============================] - 21s 214ms/step - loss: 0.3104 - acc: 0.9625 - val_loss: 0.2675 - val_acc: 0.9670\n",
            "Epoch 41/100\n",
            "100/100 [==============================] - 21s 214ms/step - loss: 0.3069 - acc: 0.9635 - val_loss: 0.2670 - val_acc: 0.9690\n",
            "Epoch 42/100\n",
            "100/100 [==============================] - 21s 215ms/step - loss: 0.2974 - acc: 0.9680 - val_loss: 0.2824 - val_acc: 0.9660\n",
            "Epoch 43/100\n",
            "100/100 [==============================] - 22s 215ms/step - loss: 0.3010 - acc: 0.9640 - val_loss: 0.3124 - val_acc: 0.9630\n",
            "Epoch 44/100\n",
            "100/100 [==============================] - 21s 214ms/step - loss: 0.2901 - acc: 0.9695 - val_loss: 0.2564 - val_acc: 0.9590\n",
            "Epoch 45/100\n",
            "100/100 [==============================] - 21s 214ms/step - loss: 0.2942 - acc: 0.9630 - val_loss: 0.2528 - val_acc: 0.9750\n",
            "Epoch 46/100\n",
            "100/100 [==============================] - 21s 214ms/step - loss: 0.2862 - acc: 0.9680 - val_loss: 0.2528 - val_acc: 0.9670\n",
            "Epoch 47/100\n",
            "100/100 [==============================] - 21s 214ms/step - loss: 0.2830 - acc: 0.9675 - val_loss: 0.2466 - val_acc: 0.9680\n",
            "Epoch 48/100\n",
            "100/100 [==============================] - 21s 213ms/step - loss: 0.2887 - acc: 0.9640 - val_loss: 0.2426 - val_acc: 0.9680\n",
            "Epoch 49/100\n",
            "100/100 [==============================] - 21s 214ms/step - loss: 0.2881 - acc: 0.9620 - val_loss: 0.3671 - val_acc: 0.9740\n",
            "Epoch 50/100\n",
            "100/100 [==============================] - 21s 214ms/step - loss: 0.2799 - acc: 0.9660 - val_loss: 0.3572 - val_acc: 0.9680\n",
            "Epoch 51/100\n",
            "100/100 [==============================] - 21s 214ms/step - loss: 0.2661 - acc: 0.9760 - val_loss: 0.2373 - val_acc: 0.9690\n",
            "Epoch 52/100\n",
            "100/100 [==============================] - 21s 213ms/step - loss: 0.2659 - acc: 0.9760 - val_loss: 0.3068 - val_acc: 0.9730\n",
            "Epoch 53/100\n",
            "100/100 [==============================] - 21s 213ms/step - loss: 0.2677 - acc: 0.9715 - val_loss: 0.2975 - val_acc: 0.9640\n",
            "Epoch 54/100\n",
            "100/100 [==============================] - 21s 214ms/step - loss: 0.2571 - acc: 0.9765 - val_loss: 0.2287 - val_acc: 0.9710\n",
            "Epoch 55/100\n",
            "100/100 [==============================] - 21s 214ms/step - loss: 0.2578 - acc: 0.9750 - val_loss: 0.2284 - val_acc: 0.9700\n",
            "Epoch 56/100\n",
            "100/100 [==============================] - 22s 216ms/step - loss: 0.2592 - acc: 0.9730 - val_loss: 0.2908 - val_acc: 0.9720\n",
            "Epoch 57/100\n",
            "100/100 [==============================] - 21s 213ms/step - loss: 0.2519 - acc: 0.9760 - val_loss: 0.2886 - val_acc: 0.9710\n",
            "Epoch 58/100\n",
            "100/100 [==============================] - 22s 215ms/step - loss: 0.2512 - acc: 0.9735 - val_loss: 0.3006 - val_acc: 0.9730\n",
            "Epoch 59/100\n",
            "100/100 [==============================] - 22s 215ms/step - loss: 0.2442 - acc: 0.9770 - val_loss: 0.3024 - val_acc: 0.9680\n",
            "Epoch 60/100\n",
            "100/100 [==============================] - 21s 214ms/step - loss: 0.2484 - acc: 0.9725 - val_loss: 0.2113 - val_acc: 0.9680\n",
            "Epoch 61/100\n",
            "100/100 [==============================] - 21s 214ms/step - loss: 0.2416 - acc: 0.9775 - val_loss: 0.2260 - val_acc: 0.9690\n",
            "Epoch 62/100\n",
            "100/100 [==============================] - 21s 213ms/step - loss: 0.2365 - acc: 0.9800 - val_loss: 0.2064 - val_acc: 0.9580\n",
            "Epoch 63/100\n",
            "100/100 [==============================] - 21s 213ms/step - loss: 0.2393 - acc: 0.9755 - val_loss: 0.2029 - val_acc: 0.9660\n",
            "Epoch 64/100\n",
            "100/100 [==============================] - 21s 212ms/step - loss: 0.2338 - acc: 0.9780 - val_loss: 0.2290 - val_acc: 0.9660\n",
            "Epoch 65/100\n",
            "100/100 [==============================] - 21s 213ms/step - loss: 0.2323 - acc: 0.9765 - val_loss: 0.2475 - val_acc: 0.9620\n",
            "Epoch 66/100\n",
            "100/100 [==============================] - 21s 212ms/step - loss: 0.2259 - acc: 0.9780 - val_loss: 0.1952 - val_acc: 0.9680\n",
            "Epoch 67/100\n",
            "100/100 [==============================] - 21s 215ms/step - loss: 0.2390 - acc: 0.9695 - val_loss: 0.1925 - val_acc: 0.9620\n",
            "Epoch 68/100\n",
            "100/100 [==============================] - 22s 215ms/step - loss: 0.2313 - acc: 0.9730 - val_loss: 0.2686 - val_acc: 0.9680\n",
            "Epoch 69/100\n",
            "100/100 [==============================] - 21s 213ms/step - loss: 0.2359 - acc: 0.9670 - val_loss: 0.1887 - val_acc: 0.9650\n",
            "Epoch 70/100\n",
            "100/100 [==============================] - 21s 214ms/step - loss: 0.2138 - acc: 0.9820 - val_loss: 0.2314 - val_acc: 0.9660\n",
            "Epoch 71/100\n",
            "100/100 [==============================] - 21s 214ms/step - loss: 0.2132 - acc: 0.9780 - val_loss: 0.1852 - val_acc: 0.9710\n",
            "Epoch 72/100\n",
            "100/100 [==============================] - 21s 214ms/step - loss: 0.2161 - acc: 0.9760 - val_loss: 0.1817 - val_acc: 0.9710\n",
            "Epoch 73/100\n",
            "100/100 [==============================] - 21s 213ms/step - loss: 0.2078 - acc: 0.9825 - val_loss: 0.1887 - val_acc: 0.9650\n",
            "Epoch 74/100\n",
            "100/100 [==============================] - 21s 213ms/step - loss: 0.2126 - acc: 0.9765 - val_loss: 0.2608 - val_acc: 0.9630\n",
            "Epoch 75/100\n",
            "100/100 [==============================] - 21s 213ms/step - loss: 0.2176 - acc: 0.9710 - val_loss: 0.1860 - val_acc: 0.9640\n",
            "Epoch 76/100\n",
            "100/100 [==============================] - 21s 212ms/step - loss: 0.2024 - acc: 0.9815 - val_loss: 0.2111 - val_acc: 0.9600\n",
            "Epoch 77/100\n",
            "100/100 [==============================] - 21s 214ms/step - loss: 0.2109 - acc: 0.9735 - val_loss: 0.1811 - val_acc: 0.9640\n",
            "Epoch 78/100\n",
            "100/100 [==============================] - 21s 213ms/step - loss: 0.1974 - acc: 0.9825 - val_loss: 0.2532 - val_acc: 0.9590\n",
            "Epoch 79/100\n",
            "100/100 [==============================] - 21s 213ms/step - loss: 0.2065 - acc: 0.9750 - val_loss: 0.2495 - val_acc: 0.9600\n",
            "Epoch 80/100\n",
            "100/100 [==============================] - 22s 217ms/step - loss: 0.1978 - acc: 0.9800 - val_loss: 0.2490 - val_acc: 0.9690\n",
            "Epoch 81/100\n",
            "100/100 [==============================] - 22s 217ms/step - loss: 0.1946 - acc: 0.9785 - val_loss: 0.3850 - val_acc: 0.9660\n",
            "Epoch 82/100\n",
            "100/100 [==============================] - 21s 215ms/step - loss: 0.1933 - acc: 0.9795 - val_loss: 0.1600 - val_acc: 0.9610\n",
            "Epoch 83/100\n",
            "100/100 [==============================] - 22s 217ms/step - loss: 0.1891 - acc: 0.9800 - val_loss: 0.1568 - val_acc: 0.9670\n",
            "Epoch 84/100\n",
            "100/100 [==============================] - 22s 218ms/step - loss: 0.1840 - acc: 0.9820 - val_loss: 0.2326 - val_acc: 0.9670\n",
            "Epoch 85/100\n",
            "100/100 [==============================] - 22s 217ms/step - loss: 0.1788 - acc: 0.9835 - val_loss: 0.1523 - val_acc: 0.9670\n",
            "Epoch 86/100\n",
            "100/100 [==============================] - 22s 217ms/step - loss: 0.1738 - acc: 0.9865 - val_loss: 0.1511 - val_acc: 0.9670\n",
            "Epoch 87/100\n",
            "100/100 [==============================] - 22s 217ms/step - loss: 0.1808 - acc: 0.9800 - val_loss: 0.2962 - val_acc: 0.9600\n",
            "Epoch 88/100\n",
            "100/100 [==============================] - 22s 218ms/step - loss: 0.1751 - acc: 0.9835 - val_loss: 0.2228 - val_acc: 0.9650\n",
            "Epoch 89/100\n",
            "100/100 [==============================] - 22s 216ms/step - loss: 0.1702 - acc: 0.9850 - val_loss: 0.3978 - val_acc: 0.9650\n",
            "Epoch 90/100\n",
            "100/100 [==============================] - 22s 216ms/step - loss: 0.1687 - acc: 0.9835 - val_loss: 0.3068 - val_acc: 0.9660\n",
            "Epoch 91/100\n",
            "100/100 [==============================] - 22s 216ms/step - loss: 0.1621 - acc: 0.9885 - val_loss: 0.1568 - val_acc: 0.9640\n",
            "Epoch 92/100\n",
            "100/100 [==============================] - 22s 217ms/step - loss: 0.1620 - acc: 0.9870 - val_loss: 0.1388 - val_acc: 0.9680\n",
            "Epoch 93/100\n",
            "100/100 [==============================] - 22s 216ms/step - loss: 0.1717 - acc: 0.9785 - val_loss: 0.1693 - val_acc: 0.9670\n",
            "Epoch 94/100\n",
            "100/100 [==============================] - 22s 217ms/step - loss: 0.1649 - acc: 0.9825 - val_loss: 0.2303 - val_acc: 0.9630\n",
            "Epoch 95/100\n",
            "100/100 [==============================] - 22s 218ms/step - loss: 0.1638 - acc: 0.9825 - val_loss: 0.2254 - val_acc: 0.9640\n",
            "Epoch 96/100\n",
            "100/100 [==============================] - 21s 215ms/step - loss: 0.1647 - acc: 0.9815 - val_loss: 0.1300 - val_acc: 0.9660\n",
            "Epoch 97/100\n",
            "100/100 [==============================] - 22s 216ms/step - loss: 0.1667 - acc: 0.9790 - val_loss: 0.1286 - val_acc: 0.9670\n",
            "Epoch 98/100\n",
            "100/100 [==============================] - 22s 216ms/step - loss: 0.1513 - acc: 0.9870 - val_loss: 0.1873 - val_acc: 0.9670\n",
            "Epoch 99/100\n",
            "100/100 [==============================] - 22s 215ms/step - loss: 0.1581 - acc: 0.9820 - val_loss: 0.2247 - val_acc: 0.9670\n",
            "Epoch 100/100\n",
            "100/100 [==============================] - 22s 216ms/step - loss: 0.1603 - acc: 0.9785 - val_loss: 0.1242 - val_acc: 0.9670\n"
          ],
          "name": "stdout"
        }
      ]
    },
    {
      "cell_type": "markdown",
      "metadata": {
        "id": "eVBQgh5M-Rtz",
        "colab_type": "text"
      },
      "source": [
        "## Display learning curves during fine-tuning"
      ]
    },
    {
      "cell_type": "code",
      "metadata": {
        "id": "mbkIw7Ie-NP4",
        "colab_type": "code",
        "outputId": "231c07ed-250e-45b3-8179-37c36e2add20",
        "colab": {
          "base_uri": "https://localhost:8080/",
          "height": 545
        }
      },
      "source": [
        "%matplotlib inline\n",
        "\n",
        "import matplotlib.pyplot as plt\n",
        "\n",
        "acc = history.history['acc']\n",
        "val_acc = history.history['val_acc']\n",
        "\n",
        "loss = history.history['loss']\n",
        "val_loss = history.history['val_loss']\n",
        "\n",
        "epochs = range(1, len(acc) + 1)\n",
        "\n",
        "# training and validation accuracy\n",
        "\n",
        "plt.plot(epochs, acc, 'bo', label='training acc')\n",
        "plt.plot(epochs, val_acc, 'b', label='validation acc')\n",
        "plt.title('training and validation accuracy')\n",
        "plt.legend()\n",
        "\n",
        "plt.figure()\n",
        "\n",
        "# training and validation loss\n",
        "\n",
        "plt.plot(epochs, loss, 'bo', label='training loss')\n",
        "plt.plot(epochs, val_loss, 'b', label='validation loss')\n",
        "plt.title('training and validation loss')\n",
        "plt.legend()\n",
        "\n",
        "plt.show()"
      ],
      "execution_count": 49,
      "outputs": [
        {
          "output_type": "display_data",
          "data": {
            "image/png": "[encoded data removed]",
            "text/plain": [
              "<Figure size 432x288 with 1 Axes>"
            ]
          },
          "metadata": {
            "tags": [],
            "needs_background": "light"
          }
        },
        {
          "output_type": "display_data",
          "data": {
            "image/png": "[encoded data removed]",
            "text/plain": [
              "<Figure size 432x288 with 1 Axes>"
            ]
          },
          "metadata": {
            "tags": [],
            "needs_background": "light"
          }
        }
      ]
    },
    {
      "cell_type": "markdown",
      "metadata": {
        "id": "obQi6N4ZShdi",
        "colab_type": "text"
      },
      "source": [
        "This looks like overfitting. I should try  adding dropout for the densely connected layer."
      ]
    },
    {
      "cell_type": "markdown",
      "metadata": {
        "id": "he3Nw6TOJwjx",
        "colab_type": "text"
      },
      "source": [
        "## Print out validation loss and accuracy"
      ]
    },
    {
      "cell_type": "code",
      "metadata": {
        "id": "SVQtrk7uJdhl",
        "colab_type": "code",
        "colab": {}
      },
      "source": [
        "val_loss, val_acc = model.evaluate_generator(validation_generator, steps=50)"
      ],
      "execution_count": 0,
      "outputs": []
    },
    {
      "cell_type": "code",
      "metadata": {
        "id": "HpdddLi1SUMe",
        "colab_type": "code",
        "outputId": "54c4649c-aba7-4d6f-9c1f-5af5ede89765",
        "colab": {
          "base_uri": "https://localhost:8080/",
          "height": 51
        }
      },
      "source": [
        "print(\"Validation loss:\", val_loss)\n",
        "print(\"Validation accuracy:\", val_acc)"
      ],
      "execution_count": 51,
      "outputs": [
        {
          "output_type": "stream",
          "text": [
            "Validation loss: 0.12418041378259659\n",
            "Validation accuracy: 0.9670000076293945\n"
          ],
          "name": "stdout"
        }
      ]
    },
    {
      "cell_type": "markdown",
      "metadata": {
        "id": "7Ww756WToby8",
        "colab_type": "text"
      },
      "source": [
        "## Save the model"
      ]
    },
    {
      "cell_type": "code",
      "metadata": {
        "id": "0lTUpUdwobKW",
        "colab_type": "code",
        "colab": {}
      },
      "source": [
        "model_fname = 'cats_and_dogs_small_4.h5' \n",
        "model.save(model_fname)"
      ],
      "execution_count": 0,
      "outputs": []
    },
    {
      "cell_type": "code",
      "metadata": {
        "id": "VNEL4CCcS0Oj",
        "colab_type": "code",
        "colab": {}
      },
      "source": [
        ""
      ],
      "execution_count": 0,
      "outputs": []
    }
  ]
}