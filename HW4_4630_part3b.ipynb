{
  "nbformat": 4,
  "nbformat_minor": 0,
  "metadata": {
    "colab": {
      "name": "HW4_4630_part3b.ipynb",
      "provenance": [],
      "include_colab_link": true
    },
    "kernelspec": {
      "name": "python3",
      "display_name": "Python 3"
    },
    "accelerator": "GPU"
  },
  "cells": [
    {
      "cell_type": "markdown",
      "metadata": {
        "id": "view-in-github",
        "colab_type": "text"
      },
      "source": [
        "<a href=\"https://colab.research.google.com/github/fuanonemus/cop4630spring2020/blob/master/HW4_4630_part3b.ipynb\" target=\"_parent\"><img src=\"https://colab.research.google.com/assets/colab-badge.svg\" alt=\"Open In Colab\"/></a>"
      ]
    },
    {
      "cell_type": "markdown",
      "metadata": {
        "id": "7MARgdPFfhof",
        "colab_type": "text"
      },
      "source": [
        "this is a copy of https://colab.research.google.com/drive/1F-RWvoxH8MmT7c1UmNy41iuOp-ejiLoF edited for hw4 problem 3. In this part, I continued the use of MobileNet, and I fine tuned the same three layers: conv_pw_7, conv_dw_10, and conv_dw_2_relu. The difference in this version is that I used tanh and linear as activation functions in the dense layers instead of softmax and exponential. The model behaved much more poorly in this iteration, and I think its because the tanh activation led to more variation in the data and linear lead the model to resist the behavior of the data as well."
      ]
    },
    {
      "cell_type": "markdown",
      "metadata": {
        "id": "KSrgMJ5vKFzQ",
        "colab_type": "text"
      },
      "source": [
        "# Fine-tuning VGG16 "
      ]
    },
    {
      "cell_type": "markdown",
      "metadata": {
        "id": "TIW7bZaAK-Hf",
        "colab_type": "text"
      },
      "source": [
        "This is based on section 5.3 *Using a pretrained convnet* of the book *Deep learning with Python* by Francois Chollet. I have made several changes to the code. I use the data that is already provided by Google. I don't download the data from Kaggle as in the deep learning book."
      ]
    },
    {
      "cell_type": "markdown",
      "metadata": {
        "id": "nsBq__dVo2pj",
        "colab_type": "text"
      },
      "source": [
        "## Feature extraction"
      ]
    },
    {
      "cell_type": "markdown",
      "metadata": {
        "id": "0g6ETAM9o54M",
        "colab_type": "text"
      },
      "source": [
        "Feature extraction consists of using the representations learned by a previous network to extract interesting features from new samples. These features are then run through a new classifier, which is trained from scratch.\n",
        "\n",
        "We will use here the convolutional base of the VGG16 model to extract the features. We will feed these features to a densely connected classifier with dropout. We will fine-tune some layers."
      ]
    },
    {
      "cell_type": "markdown",
      "metadata": {
        "id": "BqIG8QHMLNOn",
        "colab_type": "text"
      },
      "source": [
        "## Download the data"
      ]
    },
    {
      "cell_type": "markdown",
      "metadata": {
        "id": "t3I1jd7cKV6_",
        "colab_type": "text"
      },
      "source": [
        "Download the example data, a zip. of 2,000 JPG pictures of cats and dogs and extract it locally in ```/tmp```.\n",
        "\n"
      ]
    },
    {
      "cell_type": "code",
      "metadata": {
        "id": "JWjprHEXJ5Qi",
        "colab_type": "code",
        "outputId": "601f4a1d-e33d-4530-e014-5b3bca33a4c1",
        "colab": {
          "base_uri": "https://localhost:8080/",
          "height": 204
        }
      },
      "source": [
        "!wget --no-check-certificate \\\n",
        "    https://storage.googleapis.com/mledu-datasets/cats_and_dogs_filtered.zip \\\n",
        "    -O /tmp/cats_and_dogs_filtered.zip"
      ],
      "execution_count": 1,
      "outputs": [
        {
          "output_type": "stream",
          "text": [
            "--2020-04-21 23:38:21--  https://storage.googleapis.com/mledu-datasets/cats_and_dogs_filtered.zip\n",
            "Resolving storage.googleapis.com (storage.googleapis.com)... 172.217.11.176, 2607:f8b0:4007:803::2010\n",
            "Connecting to storage.googleapis.com (storage.googleapis.com)|172.217.11.176|:443... connected.\n",
            "HTTP request sent, awaiting response... 200 OK\n",
            "Length: 68606236 (65M) [application/zip]\n",
            "Saving to: ‘/tmp/cats_and_dogs_filtered.zip’\n",
            "\n",
            "/tmp/cats_and_dogs_ 100%[===================>]  65.43M   187MB/s    in 0.3s    \n",
            "\n",
            "2020-04-21 23:38:22 (187 MB/s) - ‘/tmp/cats_and_dogs_filtered.zip’ saved [68606236/68606236]\n",
            "\n"
          ],
          "name": "stdout"
        }
      ]
    },
    {
      "cell_type": "code",
      "metadata": {
        "id": "WvoHtdA-K6Rw",
        "colab_type": "code",
        "colab": {}
      },
      "source": [
        "import os\n",
        "import zipfile\n",
        "\n",
        "local_zip = '/tmp/cats_and_dogs_filtered.zip'\n",
        "zip_ref = zipfile.ZipFile(local_zip, 'r')\n",
        "zip_ref.extractall('/tmp')\n",
        "zip_ref.close()"
      ],
      "execution_count": 0,
      "outputs": []
    },
    {
      "cell_type": "markdown",
      "metadata": {
        "id": "shZiOBnJMyy_",
        "colab_type": "text"
      },
      "source": [
        "Note that the data provided by Google does not have a test set."
      ]
    },
    {
      "cell_type": "code",
      "metadata": {
        "id": "dL8ikM89LlsH",
        "colab_type": "code",
        "colab": {}
      },
      "source": [
        "base_dir = '/tmp/cats_and_dogs_filtered'\n",
        "train_dir = os.path.join(base_dir, 'train')\n",
        "validation_dir = os.path.join(base_dir, 'validation')\n",
        "\n",
        "# Directory with our training cat pictures\n",
        "train_cats_dir = os.path.join(train_dir, 'cats')\n",
        "\n",
        "# Directory with our training dog pictures\n",
        "train_dogs_dir = os.path.join(train_dir, 'dogs')\n",
        "\n",
        "# Directory with our validation cat pictures\n",
        "validation_cats_dir = os.path.join(validation_dir, 'cats')\n",
        "\n",
        "# Directory with our validation dog pictures\n",
        "validation_dogs_dir = os.path.join(validation_dir, 'dogs')"
      ],
      "execution_count": 0,
      "outputs": []
    },
    {
      "cell_type": "markdown",
      "metadata": {
        "id": "inyP8bcdXnn-",
        "colab_type": "text"
      },
      "source": [
        "## Build network with VGG16 convolution base and custom densely connected layers"
      ]
    },
    {
      "cell_type": "markdown",
      "metadata": {
        "id": "kQ48W5T9rHWu",
        "colab_type": "text"
      },
      "source": [
        "### Load the convolutional base"
      ]
    },
    {
      "cell_type": "code",
      "metadata": {
        "id": "Y0FgtANCXm_H",
        "colab_type": "code",
        "outputId": "f6a45f9e-bd26-483f-93b6-e208bc08e102",
        "colab": {
          "base_uri": "https://localhost:8080/",
          "height": 122
        }
      },
      "source": [
        "from keras.applications import MobileNet\n",
        "\n",
        "conv_base = MobileNet(\n",
        "    weights='imagenet', \n",
        "    include_top=False, \n",
        "    input_shape=(150, 150, 3))"
      ],
      "execution_count": 4,
      "outputs": [
        {
          "output_type": "stream",
          "text": [
            "Using TensorFlow backend.\n",
            "/usr/local/lib/python3.6/dist-packages/keras_applications/mobilenet.py:207: UserWarning: `input_shape` is undefined or non-square, or `rows` is not in [128, 160, 192, 224]. Weights for input shape (224, 224) will be loaded as the default.\n",
            "  warnings.warn('`input_shape` is undefined or non-square, '\n"
          ],
          "name": "stderr"
        },
        {
          "output_type": "stream",
          "text": [
            "Downloading data from https://github.com/fchollet/deep-learning-models/releases/download/v0.6/mobilenet_1_0_224_tf_no_top.h5\n",
            "17227776/17225924 [==============================] - 1s 0us/step\n"
          ],
          "name": "stdout"
        }
      ]
    },
    {
      "cell_type": "markdown",
      "metadata": {
        "id": "D6OBHOO9q1ou",
        "colab_type": "text"
      },
      "source": [
        "### Freeze the convolutional base"
      ]
    },
    {
      "cell_type": "code",
      "metadata": {
        "id": "UleRo4Dpq6Ld",
        "colab_type": "code",
        "colab": {}
      },
      "source": [
        "conv_base.trainable = False"
      ],
      "execution_count": 0,
      "outputs": []
    },
    {
      "cell_type": "markdown",
      "metadata": {
        "id": "Qfx6PqhPrb7Q",
        "colab_type": "text"
      },
      "source": [
        "### Concatenate the convolutional base and densely connected layers"
      ]
    },
    {
      "cell_type": "code",
      "metadata": {
        "id": "qUpmocDAO3xm",
        "colab_type": "code",
        "colab": {}
      },
      "source": [
        "from keras import layers\n",
        "from keras import models\n",
        "from keras import optimizers\n",
        "\n",
        "model = models.Sequential()\n",
        "model.add(conv_base)\n",
        "model.add(layers.Flatten())\n",
        "model.add(layers.Dense(256, activation='relu'))\n",
        "model.add(layers.Dense(128, activation='tanh'))\n",
        "model.add(layers.Dense(64, activation='linear'))\n",
        "#model.add(layers.Dropout(0.1))\n",
        "model.add(layers.Dense(1, activation='sigmoid'))"
      ],
      "execution_count": 0,
      "outputs": []
    },
    {
      "cell_type": "code",
      "metadata": {
        "id": "Fh6gZSeAjF7c",
        "colab_type": "code",
        "outputId": "10461ffa-4d66-4ca8-bdf8-9eac3015c09a",
        "colab": {
          "base_uri": "https://localhost:8080/",
          "height": 1000
        }
      },
      "source": [
        "model.summary()\n",
        "conv_base.summary()"
      ],
      "execution_count": 7,
      "outputs": [
        {
          "output_type": "stream",
          "text": [
            "Model: \"sequential_1\"\n",
            "_________________________________________________________________\n",
            "Layer (type)                 Output Shape              Param #   \n",
            "=================================================================\n",
            "mobilenet_1.00_224 (Model)   (None, 4, 4, 1024)        3228864   \n",
            "_________________________________________________________________\n",
            "flatten_1 (Flatten)          (None, 16384)             0         \n",
            "_________________________________________________________________\n",
            "dense_1 (Dense)              (None, 256)               4194560   \n",
            "_________________________________________________________________\n",
            "dense_2 (Dense)              (None, 128)               32896     \n",
            "_________________________________________________________________\n",
            "dense_3 (Dense)              (None, 64)                8256      \n",
            "_________________________________________________________________\n",
            "dense_4 (Dense)              (None, 1)                 65        \n",
            "=================================================================\n",
            "Total params: 7,464,641\n",
            "Trainable params: 4,235,777\n",
            "Non-trainable params: 3,228,864\n",
            "_________________________________________________________________\n",
            "Model: \"mobilenet_1.00_224\"\n",
            "_________________________________________________________________\n",
            "Layer (type)                 Output Shape              Param #   \n",
            "=================================================================\n",
            "input_1 (InputLayer)         (None, 150, 150, 3)       0         \n",
            "_________________________________________________________________\n",
            "conv1_pad (ZeroPadding2D)    (None, 151, 151, 3)       0         \n",
            "_________________________________________________________________\n",
            "conv1 (Conv2D)               (None, 75, 75, 32)        864       \n",
            "_________________________________________________________________\n",
            "conv1_bn (BatchNormalization (None, 75, 75, 32)        128       \n",
            "_________________________________________________________________\n",
            "conv1_relu (ReLU)            (None, 75, 75, 32)        0         \n",
            "_________________________________________________________________\n",
            "conv_dw_1 (DepthwiseConv2D)  (None, 75, 75, 32)        288       \n",
            "_________________________________________________________________\n",
            "conv_dw_1_bn (BatchNormaliza (None, 75, 75, 32)        128       \n",
            "_________________________________________________________________\n",
            "conv_dw_1_relu (ReLU)        (None, 75, 75, 32)        0         \n",
            "_________________________________________________________________\n",
            "conv_pw_1 (Conv2D)           (None, 75, 75, 64)        2048      \n",
            "_________________________________________________________________\n",
            "conv_pw_1_bn (BatchNormaliza (None, 75, 75, 64)        256       \n",
            "_________________________________________________________________\n",
            "conv_pw_1_relu (ReLU)        (None, 75, 75, 64)        0         \n",
            "_________________________________________________________________\n",
            "conv_pad_2 (ZeroPadding2D)   (None, 76, 76, 64)        0         \n",
            "_________________________________________________________________\n",
            "conv_dw_2 (DepthwiseConv2D)  (None, 37, 37, 64)        576       \n",
            "_________________________________________________________________\n",
            "conv_dw_2_bn (BatchNormaliza (None, 37, 37, 64)        256       \n",
            "_________________________________________________________________\n",
            "conv_dw_2_relu (ReLU)        (None, 37, 37, 64)        0         \n",
            "_________________________________________________________________\n",
            "conv_pw_2 (Conv2D)           (None, 37, 37, 128)       8192      \n",
            "_________________________________________________________________\n",
            "conv_pw_2_bn (BatchNormaliza (None, 37, 37, 128)       512       \n",
            "_________________________________________________________________\n",
            "conv_pw_2_relu (ReLU)        (None, 37, 37, 128)       0         \n",
            "_________________________________________________________________\n",
            "conv_dw_3 (DepthwiseConv2D)  (None, 37, 37, 128)       1152      \n",
            "_________________________________________________________________\n",
            "conv_dw_3_bn (BatchNormaliza (None, 37, 37, 128)       512       \n",
            "_________________________________________________________________\n",
            "conv_dw_3_relu (ReLU)        (None, 37, 37, 128)       0         \n",
            "_________________________________________________________________\n",
            "conv_pw_3 (Conv2D)           (None, 37, 37, 128)       16384     \n",
            "_________________________________________________________________\n",
            "conv_pw_3_bn (BatchNormaliza (None, 37, 37, 128)       512       \n",
            "_________________________________________________________________\n",
            "conv_pw_3_relu (ReLU)        (None, 37, 37, 128)       0         \n",
            "_________________________________________________________________\n",
            "conv_pad_4 (ZeroPadding2D)   (None, 38, 38, 128)       0         \n",
            "_________________________________________________________________\n",
            "conv_dw_4 (DepthwiseConv2D)  (None, 18, 18, 128)       1152      \n",
            "_________________________________________________________________\n",
            "conv_dw_4_bn (BatchNormaliza (None, 18, 18, 128)       512       \n",
            "_________________________________________________________________\n",
            "conv_dw_4_relu (ReLU)        (None, 18, 18, 128)       0         \n",
            "_________________________________________________________________\n",
            "conv_pw_4 (Conv2D)           (None, 18, 18, 256)       32768     \n",
            "_________________________________________________________________\n",
            "conv_pw_4_bn (BatchNormaliza (None, 18, 18, 256)       1024      \n",
            "_________________________________________________________________\n",
            "conv_pw_4_relu (ReLU)        (None, 18, 18, 256)       0         \n",
            "_________________________________________________________________\n",
            "conv_dw_5 (DepthwiseConv2D)  (None, 18, 18, 256)       2304      \n",
            "_________________________________________________________________\n",
            "conv_dw_5_bn (BatchNormaliza (None, 18, 18, 256)       1024      \n",
            "_________________________________________________________________\n",
            "conv_dw_5_relu (ReLU)        (None, 18, 18, 256)       0         \n",
            "_________________________________________________________________\n",
            "conv_pw_5 (Conv2D)           (None, 18, 18, 256)       65536     \n",
            "_________________________________________________________________\n",
            "conv_pw_5_bn (BatchNormaliza (None, 18, 18, 256)       1024      \n",
            "_________________________________________________________________\n",
            "conv_pw_5_relu (ReLU)        (None, 18, 18, 256)       0         \n",
            "_________________________________________________________________\n",
            "conv_pad_6 (ZeroPadding2D)   (None, 19, 19, 256)       0         \n",
            "_________________________________________________________________\n",
            "conv_dw_6 (DepthwiseConv2D)  (None, 9, 9, 256)         2304      \n",
            "_________________________________________________________________\n",
            "conv_dw_6_bn (BatchNormaliza (None, 9, 9, 256)         1024      \n",
            "_________________________________________________________________\n",
            "conv_dw_6_relu (ReLU)        (None, 9, 9, 256)         0         \n",
            "_________________________________________________________________\n",
            "conv_pw_6 (Conv2D)           (None, 9, 9, 512)         131072    \n",
            "_________________________________________________________________\n",
            "conv_pw_6_bn (BatchNormaliza (None, 9, 9, 512)         2048      \n",
            "_________________________________________________________________\n",
            "conv_pw_6_relu (ReLU)        (None, 9, 9, 512)         0         \n",
            "_________________________________________________________________\n",
            "conv_dw_7 (DepthwiseConv2D)  (None, 9, 9, 512)         4608      \n",
            "_________________________________________________________________\n",
            "conv_dw_7_bn (BatchNormaliza (None, 9, 9, 512)         2048      \n",
            "_________________________________________________________________\n",
            "conv_dw_7_relu (ReLU)        (None, 9, 9, 512)         0         \n",
            "_________________________________________________________________\n",
            "conv_pw_7 (Conv2D)           (None, 9, 9, 512)         262144    \n",
            "_________________________________________________________________\n",
            "conv_pw_7_bn (BatchNormaliza (None, 9, 9, 512)         2048      \n",
            "_________________________________________________________________\n",
            "conv_pw_7_relu (ReLU)        (None, 9, 9, 512)         0         \n",
            "_________________________________________________________________\n",
            "conv_dw_8 (DepthwiseConv2D)  (None, 9, 9, 512)         4608      \n",
            "_________________________________________________________________\n",
            "conv_dw_8_bn (BatchNormaliza (None, 9, 9, 512)         2048      \n",
            "_________________________________________________________________\n",
            "conv_dw_8_relu (ReLU)        (None, 9, 9, 512)         0         \n",
            "_________________________________________________________________\n",
            "conv_pw_8 (Conv2D)           (None, 9, 9, 512)         262144    \n",
            "_________________________________________________________________\n",
            "conv_pw_8_bn (BatchNormaliza (None, 9, 9, 512)         2048      \n",
            "_________________________________________________________________\n",
            "conv_pw_8_relu (ReLU)        (None, 9, 9, 512)         0         \n",
            "_________________________________________________________________\n",
            "conv_dw_9 (DepthwiseConv2D)  (None, 9, 9, 512)         4608      \n",
            "_________________________________________________________________\n",
            "conv_dw_9_bn (BatchNormaliza (None, 9, 9, 512)         2048      \n",
            "_________________________________________________________________\n",
            "conv_dw_9_relu (ReLU)        (None, 9, 9, 512)         0         \n",
            "_________________________________________________________________\n",
            "conv_pw_9 (Conv2D)           (None, 9, 9, 512)         262144    \n",
            "_________________________________________________________________\n",
            "conv_pw_9_bn (BatchNormaliza (None, 9, 9, 512)         2048      \n",
            "_________________________________________________________________\n",
            "conv_pw_9_relu (ReLU)        (None, 9, 9, 512)         0         \n",
            "_________________________________________________________________\n",
            "conv_dw_10 (DepthwiseConv2D) (None, 9, 9, 512)         4608      \n",
            "_________________________________________________________________\n",
            "conv_dw_10_bn (BatchNormaliz (None, 9, 9, 512)         2048      \n",
            "_________________________________________________________________\n",
            "conv_dw_10_relu (ReLU)       (None, 9, 9, 512)         0         \n",
            "_________________________________________________________________\n",
            "conv_pw_10 (Conv2D)          (None, 9, 9, 512)         262144    \n",
            "_________________________________________________________________\n",
            "conv_pw_10_bn (BatchNormaliz (None, 9, 9, 512)         2048      \n",
            "_________________________________________________________________\n",
            "conv_pw_10_relu (ReLU)       (None, 9, 9, 512)         0         \n",
            "_________________________________________________________________\n",
            "conv_dw_11 (DepthwiseConv2D) (None, 9, 9, 512)         4608      \n",
            "_________________________________________________________________\n",
            "conv_dw_11_bn (BatchNormaliz (None, 9, 9, 512)         2048      \n",
            "_________________________________________________________________\n",
            "conv_dw_11_relu (ReLU)       (None, 9, 9, 512)         0         \n",
            "_________________________________________________________________\n",
            "conv_pw_11 (Conv2D)          (None, 9, 9, 512)         262144    \n",
            "_________________________________________________________________\n",
            "conv_pw_11_bn (BatchNormaliz (None, 9, 9, 512)         2048      \n",
            "_________________________________________________________________\n",
            "conv_pw_11_relu (ReLU)       (None, 9, 9, 512)         0         \n",
            "_________________________________________________________________\n",
            "conv_pad_12 (ZeroPadding2D)  (None, 10, 10, 512)       0         \n",
            "_________________________________________________________________\n",
            "conv_dw_12 (DepthwiseConv2D) (None, 4, 4, 512)         4608      \n",
            "_________________________________________________________________\n",
            "conv_dw_12_bn (BatchNormaliz (None, 4, 4, 512)         2048      \n",
            "_________________________________________________________________\n",
            "conv_dw_12_relu (ReLU)       (None, 4, 4, 512)         0         \n",
            "_________________________________________________________________\n",
            "conv_pw_12 (Conv2D)          (None, 4, 4, 1024)        524288    \n",
            "_________________________________________________________________\n",
            "conv_pw_12_bn (BatchNormaliz (None, 4, 4, 1024)        4096      \n",
            "_________________________________________________________________\n",
            "conv_pw_12_relu (ReLU)       (None, 4, 4, 1024)        0         \n",
            "_________________________________________________________________\n",
            "conv_dw_13 (DepthwiseConv2D) (None, 4, 4, 1024)        9216      \n",
            "_________________________________________________________________\n",
            "conv_dw_13_bn (BatchNormaliz (None, 4, 4, 1024)        4096      \n",
            "_________________________________________________________________\n",
            "conv_dw_13_relu (ReLU)       (None, 4, 4, 1024)        0         \n",
            "_________________________________________________________________\n",
            "conv_pw_13 (Conv2D)          (None, 4, 4, 1024)        1048576   \n",
            "_________________________________________________________________\n",
            "conv_pw_13_bn (BatchNormaliz (None, 4, 4, 1024)        4096      \n",
            "_________________________________________________________________\n",
            "conv_pw_13_relu (ReLU)       (None, 4, 4, 1024)        0         \n",
            "=================================================================\n",
            "Total params: 3,228,864\n",
            "Trainable params: 0\n",
            "Non-trainable params: 3,228,864\n",
            "_________________________________________________________________\n"
          ],
          "name": "stdout"
        }
      ]
    },
    {
      "cell_type": "markdown",
      "metadata": {
        "id": "eZjBiddhi5Qj",
        "colab_type": "text"
      },
      "source": [
        "## Train the model end to end with frozen convolutional base"
      ]
    },
    {
      "cell_type": "code",
      "metadata": {
        "id": "tfAQlC2Oi41L",
        "colab_type": "code",
        "outputId": "99cfadbd-3e55-45a8-934f-8c8d8093bc21",
        "colab": {
          "base_uri": "https://localhost:8080/",
          "height": 1000
        }
      },
      "source": [
        "from keras.preprocessing.image import ImageDataGenerator\n",
        "from keras import optimizers\n",
        "\n",
        "# data augmentation\n",
        "\n",
        "train_datagen = ImageDataGenerator(\n",
        "    rescale=1./255, \n",
        "    rotation_range=40,\n",
        "    width_shift_range=0.2,\n",
        "    height_shift_range=0.2,\n",
        "    shear_range=0.2,\n",
        "    zoom_range=0.2,\n",
        "    horizontal_flip=True,\n",
        "    fill_mode='nearest'\n",
        ")\n",
        "\n",
        "train_generator = train_datagen.flow_from_directory(\n",
        "    train_dir,\n",
        "    target_size=(150, 150),\n",
        "    batch_size=20,\n",
        "    class_mode='binary')\n",
        "\n",
        "validation_datagen = ImageDataGenerator(rescale=1./255)\n",
        "\n",
        "validation_generator = validation_datagen.flow_from_directory(\n",
        "    validation_dir,\n",
        "    target_size=(150, 150),\n",
        "    batch_size=20,\n",
        "    class_mode='binary')\n",
        "\n",
        "# compile model\n",
        "\n",
        "model.compile(\n",
        "    loss='binary_crossentropy', \n",
        "    optimizer=optimizers.RMSprop(lr=2e-5), \n",
        "    metrics=['acc'])\n",
        "\n",
        "# train\n",
        "\n",
        "history = model.fit_generator(\n",
        "    train_generator,\n",
        "    steps_per_epoch=100,\n",
        "    epochs=30,\n",
        "    validation_data=validation_generator,\n",
        "    validation_steps=50\n",
        ")"
      ],
      "execution_count": 8,
      "outputs": [
        {
          "output_type": "stream",
          "text": [
            "Found 2000 images belonging to 2 classes.\n",
            "Found 1000 images belonging to 2 classes.\n",
            "Epoch 1/30\n",
            "100/100 [==============================] - 27s 266ms/step - loss: 0.4116 - acc: 0.8150 - val_loss: 0.3429 - val_acc: 0.9490\n",
            "Epoch 2/30\n",
            "100/100 [==============================] - 19s 187ms/step - loss: 0.2904 - acc: 0.8730 - val_loss: 0.2857 - val_acc: 0.9530\n",
            "Epoch 3/30\n",
            "100/100 [==============================] - 19s 185ms/step - loss: 0.2671 - acc: 0.8875 - val_loss: 0.1540 - val_acc: 0.9550\n",
            "Epoch 4/30\n",
            "100/100 [==============================] - 18s 184ms/step - loss: 0.2425 - acc: 0.8960 - val_loss: 0.0046 - val_acc: 0.9560\n",
            "Epoch 5/30\n",
            "100/100 [==============================] - 18s 183ms/step - loss: 0.2238 - acc: 0.9035 - val_loss: 0.0138 - val_acc: 0.9580\n",
            "Epoch 6/30\n",
            "100/100 [==============================] - 18s 183ms/step - loss: 0.2098 - acc: 0.9140 - val_loss: 0.0042 - val_acc: 0.9570\n",
            "Epoch 7/30\n",
            "100/100 [==============================] - 18s 182ms/step - loss: 0.2194 - acc: 0.9020 - val_loss: 0.0674 - val_acc: 0.9590\n",
            "Epoch 8/30\n",
            "100/100 [==============================] - 18s 181ms/step - loss: 0.1943 - acc: 0.9235 - val_loss: 5.0548e-04 - val_acc: 0.9580\n",
            "Epoch 9/30\n",
            "100/100 [==============================] - 18s 179ms/step - loss: 0.2103 - acc: 0.9190 - val_loss: 0.0086 - val_acc: 0.9590\n",
            "Epoch 10/30\n",
            "100/100 [==============================] - 18s 178ms/step - loss: 0.1795 - acc: 0.9260 - val_loss: 0.0249 - val_acc: 0.9620\n",
            "Epoch 11/30\n",
            "100/100 [==============================] - 18s 180ms/step - loss: 0.2137 - acc: 0.9065 - val_loss: 0.0370 - val_acc: 0.9660\n",
            "Epoch 12/30\n",
            "100/100 [==============================] - 18s 180ms/step - loss: 0.1965 - acc: 0.9210 - val_loss: 0.0506 - val_acc: 0.9640\n",
            "Epoch 13/30\n",
            "100/100 [==============================] - 18s 177ms/step - loss: 0.1880 - acc: 0.9255 - val_loss: 0.0485 - val_acc: 0.9630\n",
            "Epoch 14/30\n",
            "100/100 [==============================] - 17s 175ms/step - loss: 0.1822 - acc: 0.9250 - val_loss: 0.1884 - val_acc: 0.9590\n",
            "Epoch 15/30\n",
            "100/100 [==============================] - 17s 175ms/step - loss: 0.1850 - acc: 0.9255 - val_loss: 0.0650 - val_acc: 0.9660\n",
            "Epoch 16/30\n",
            "100/100 [==============================] - 17s 174ms/step - loss: 0.1857 - acc: 0.9230 - val_loss: 0.0685 - val_acc: 0.9640\n",
            "Epoch 17/30\n",
            "100/100 [==============================] - 18s 175ms/step - loss: 0.1694 - acc: 0.9295 - val_loss: 7.6741e-04 - val_acc: 0.9610\n",
            "Epoch 18/30\n",
            "100/100 [==============================] - 17s 172ms/step - loss: 0.1675 - acc: 0.9350 - val_loss: 0.0531 - val_acc: 0.9680\n",
            "Epoch 19/30\n",
            "100/100 [==============================] - 17s 174ms/step - loss: 0.1883 - acc: 0.9270 - val_loss: 0.1017 - val_acc: 0.9640\n",
            "Epoch 20/30\n",
            "100/100 [==============================] - 18s 177ms/step - loss: 0.1747 - acc: 0.9315 - val_loss: 0.0926 - val_acc: 0.9640\n",
            "Epoch 21/30\n",
            "100/100 [==============================] - 18s 177ms/step - loss: 0.1643 - acc: 0.9300 - val_loss: 0.0026 - val_acc: 0.9660\n",
            "Epoch 22/30\n",
            "100/100 [==============================] - 18s 178ms/step - loss: 0.1774 - acc: 0.9245 - val_loss: 0.0795 - val_acc: 0.9650\n",
            "Epoch 23/30\n",
            "100/100 [==============================] - 18s 177ms/step - loss: 0.1682 - acc: 0.9285 - val_loss: 0.1664 - val_acc: 0.9680\n",
            "Epoch 24/30\n",
            "100/100 [==============================] - 18s 177ms/step - loss: 0.1642 - acc: 0.9290 - val_loss: 0.0853 - val_acc: 0.9660\n",
            "Epoch 25/30\n",
            "100/100 [==============================] - 18s 180ms/step - loss: 0.1575 - acc: 0.9365 - val_loss: 0.0333 - val_acc: 0.9680\n",
            "Epoch 26/30\n",
            "100/100 [==============================] - 18s 181ms/step - loss: 0.1550 - acc: 0.9365 - val_loss: 0.1037 - val_acc: 0.9660\n",
            "Epoch 27/30\n",
            "100/100 [==============================] - 18s 180ms/step - loss: 0.1616 - acc: 0.9335 - val_loss: 0.1167 - val_acc: 0.9670\n",
            "Epoch 28/30\n",
            "100/100 [==============================] - 18s 179ms/step - loss: 0.1610 - acc: 0.9375 - val_loss: 0.0455 - val_acc: 0.9690\n",
            "Epoch 29/30\n",
            "100/100 [==============================] - 18s 181ms/step - loss: 0.1669 - acc: 0.9295 - val_loss: 0.0022 - val_acc: 0.9680\n",
            "Epoch 30/30\n",
            "100/100 [==============================] - 18s 183ms/step - loss: 0.1677 - acc: 0.9285 - val_loss: 0.0216 - val_acc: 0.9700\n"
          ],
          "name": "stdout"
        }
      ]
    },
    {
      "cell_type": "markdown",
      "metadata": {
        "id": "xqRc_vHKc92U",
        "colab_type": "text"
      },
      "source": [
        "## Display curves of loss and accuracy during training"
      ]
    },
    {
      "cell_type": "code",
      "metadata": {
        "id": "ybWwdzz9bwuQ",
        "colab_type": "code",
        "outputId": "0ba9bcb5-b316-4486-e176-15b16579e2ac",
        "colab": {
          "base_uri": "https://localhost:8080/",
          "height": 545
        }
      },
      "source": [
        "%matplotlib inline\n",
        "\n",
        "import matplotlib.pyplot as plt\n",
        "\n",
        "acc = history.history['acc']\n",
        "val_acc = history.history['val_acc']\n",
        "\n",
        "loss = history.history['loss']\n",
        "val_loss = history.history['val_loss']\n",
        "\n",
        "epochs = range(1, len(acc) + 1)\n",
        "\n",
        "# training and validation accuracy\n",
        "\n",
        "plt.plot(epochs, acc, 'bo', label='training acc')\n",
        "plt.plot(epochs, val_acc, 'b', label='validation acc')\n",
        "plt.title('training and validation accuracy')\n",
        "plt.legend()\n",
        "\n",
        "plt.figure()\n",
        "\n",
        "# training and validation loss\n",
        "\n",
        "plt.plot(epochs, loss, 'bo', label='training loss')\n",
        "plt.plot(epochs, val_loss, 'b', label='validation loss')\n",
        "plt.title('training and validation loss')\n",
        "plt.legend()\n",
        "\n",
        "plt.show()"
      ],
      "execution_count": 11,
      "outputs": [
        {
          "output_type": "display_data",
          "data": {
            "image/png": "[encoded data removed]",
            "text/plain": [
              "<Figure size 432x288 with 1 Axes>"
            ]
          },
          "metadata": {
            "tags": [],
            "needs_background": "light"
          }
        },
        {
          "output_type": "display_data",
          "data": {
            "image/png": "[encoded data removed]",
            "text/plain": [
              "<Figure size 432x288 with 1 Axes>"
            ]
          },
          "metadata": {
            "tags": [],
            "needs_background": "light"
          }
        }
      ]
    },
    {
      "cell_type": "markdown",
      "metadata": {
        "id": "lOWsxpey8lN0",
        "colab_type": "text"
      },
      "source": [
        "## Fine-tuning"
      ]
    },
    {
      "cell_type": "code",
      "metadata": {
        "id": "PwkVMx8N8qMw",
        "colab_type": "code",
        "colab": {}
      },
      "source": [
        "conv_base.trainable = True\n",
        "\n",
        "for layer in conv_base.layers:\n",
        "  if layer.name == 'conv_pw_7' or layer.name == 'conv_dw_10' or layer.name == 'conv_dw_2_relu':\n",
        "    layer.trainable = True\n",
        "  else:\n",
        "    layer.trainabletrainable = False"
      ],
      "execution_count": 0,
      "outputs": []
    },
    {
      "cell_type": "code",
      "metadata": {
        "id": "DyN-J7rs9cvo",
        "colab_type": "code",
        "outputId": "2ed7142e-10b9-498b-d9ad-3cbca719274f",
        "colab": {
          "base_uri": "https://localhost:8080/",
          "height": 1000
        }
      },
      "source": [
        "# compile model\n",
        "\n",
        "model.compile(\n",
        "    loss='binary_crossentropy',\n",
        "    #\n",
        "    # choose a smaller learning rate\n",
        "    #\n",
        "    optimizer=optimizers.RMSprop(lr=1e-5), \n",
        "    metrics=['acc'])\n",
        "\n",
        "# train\n",
        "\n",
        "history = model.fit_generator(\n",
        "    train_generator,\n",
        "    steps_per_epoch=100,\n",
        "    epochs=100,\n",
        "    validation_data=validation_generator,\n",
        "    validation_steps=50)"
      ],
      "execution_count": 14,
      "outputs": [
        {
          "output_type": "stream",
          "text": [
            "Epoch 1/100\n",
            "100/100 [==============================] - 30s 297ms/step - loss: 0.1668 - acc: 0.9365 - val_loss: 0.1941 - val_acc: 0.9660\n",
            "Epoch 2/100\n",
            "100/100 [==============================] - 24s 235ms/step - loss: 0.1777 - acc: 0.9250 - val_loss: 0.0902 - val_acc: 0.9670\n",
            "Epoch 3/100\n",
            "100/100 [==============================] - 23s 234ms/step - loss: 0.1463 - acc: 0.9440 - val_loss: 0.1162 - val_acc: 0.9590\n",
            "Epoch 4/100\n",
            "100/100 [==============================] - 23s 234ms/step - loss: 0.1472 - acc: 0.9430 - val_loss: 0.0152 - val_acc: 0.9680\n",
            "Epoch 5/100\n",
            "100/100 [==============================] - 23s 235ms/step - loss: 0.1369 - acc: 0.9520 - val_loss: 0.0670 - val_acc: 0.9570\n",
            "Epoch 6/100\n",
            "100/100 [==============================] - 24s 237ms/step - loss: 0.1342 - acc: 0.9455 - val_loss: 0.1472 - val_acc: 0.9560\n",
            "Epoch 7/100\n",
            "100/100 [==============================] - 24s 237ms/step - loss: 0.0988 - acc: 0.9615 - val_loss: 0.0603 - val_acc: 0.9570\n",
            "Epoch 8/100\n",
            "100/100 [==============================] - 24s 238ms/step - loss: 0.0923 - acc: 0.9610 - val_loss: 0.0458 - val_acc: 0.9610\n",
            "Epoch 9/100\n",
            "100/100 [==============================] - 24s 239ms/step - loss: 0.1223 - acc: 0.9490 - val_loss: 0.3194 - val_acc: 0.9610\n",
            "Epoch 10/100\n",
            "100/100 [==============================] - 24s 238ms/step - loss: 0.1143 - acc: 0.9505 - val_loss: 0.0630 - val_acc: 0.9570\n",
            "Epoch 11/100\n",
            "100/100 [==============================] - 23s 235ms/step - loss: 0.1147 - acc: 0.9525 - val_loss: 0.1336 - val_acc: 0.9660\n",
            "Epoch 12/100\n",
            "100/100 [==============================] - 24s 237ms/step - loss: 0.1001 - acc: 0.9625 - val_loss: 0.0146 - val_acc: 0.9610\n",
            "Epoch 13/100\n",
            "100/100 [==============================] - 24s 239ms/step - loss: 0.0856 - acc: 0.9700 - val_loss: 0.0173 - val_acc: 0.9680\n",
            "Epoch 14/100\n",
            "100/100 [==============================] - 24s 238ms/step - loss: 0.0962 - acc: 0.9655 - val_loss: 0.0872 - val_acc: 0.9670\n",
            "Epoch 15/100\n",
            "100/100 [==============================] - 24s 237ms/step - loss: 0.0860 - acc: 0.9670 - val_loss: 0.0373 - val_acc: 0.9680\n",
            "Epoch 16/100\n",
            "100/100 [==============================] - 24s 237ms/step - loss: 0.1132 - acc: 0.9550 - val_loss: 0.0677 - val_acc: 0.9630\n",
            "Epoch 17/100\n",
            "100/100 [==============================] - 24s 238ms/step - loss: 0.0929 - acc: 0.9640 - val_loss: 0.0705 - val_acc: 0.9670\n",
            "Epoch 18/100\n",
            "100/100 [==============================] - 24s 237ms/step - loss: 0.0894 - acc: 0.9655 - val_loss: 0.1076 - val_acc: 0.9660\n",
            "Epoch 19/100\n",
            "100/100 [==============================] - 24s 238ms/step - loss: 0.0827 - acc: 0.9680 - val_loss: 0.0462 - val_acc: 0.9740\n",
            "Epoch 20/100\n",
            "100/100 [==============================] - 24s 237ms/step - loss: 0.0832 - acc: 0.9650 - val_loss: 0.1044 - val_acc: 0.9710\n",
            "Epoch 21/100\n",
            "100/100 [==============================] - 24s 237ms/step - loss: 0.0863 - acc: 0.9680 - val_loss: 0.0341 - val_acc: 0.9650\n",
            "Epoch 22/100\n",
            "100/100 [==============================] - 24s 239ms/step - loss: 0.0879 - acc: 0.9635 - val_loss: 0.0015 - val_acc: 0.9610\n",
            "Epoch 23/100\n",
            "100/100 [==============================] - 24s 236ms/step - loss: 0.0594 - acc: 0.9780 - val_loss: 0.0150 - val_acc: 0.9680\n",
            "Epoch 24/100\n",
            "100/100 [==============================] - 24s 238ms/step - loss: 0.0814 - acc: 0.9705 - val_loss: 0.0476 - val_acc: 0.9590\n",
            "Epoch 25/100\n",
            "100/100 [==============================] - 24s 238ms/step - loss: 0.0765 - acc: 0.9720 - val_loss: 0.0273 - val_acc: 0.9700\n",
            "Epoch 26/100\n",
            "100/100 [==============================] - 24s 238ms/step - loss: 0.0859 - acc: 0.9695 - val_loss: 0.0417 - val_acc: 0.9680\n",
            "Epoch 27/100\n",
            "100/100 [==============================] - 24s 239ms/step - loss: 0.0788 - acc: 0.9705 - val_loss: 0.0071 - val_acc: 0.9700\n",
            "Epoch 28/100\n",
            "100/100 [==============================] - 24s 239ms/step - loss: 0.0618 - acc: 0.9755 - val_loss: 0.0257 - val_acc: 0.9700\n",
            "Epoch 29/100\n",
            "100/100 [==============================] - 24s 239ms/step - loss: 0.0572 - acc: 0.9750 - val_loss: 0.2209 - val_acc: 0.9730\n",
            "Epoch 30/100\n",
            "100/100 [==============================] - 24s 239ms/step - loss: 0.0645 - acc: 0.9770 - val_loss: 0.0696 - val_acc: 0.9710\n",
            "Epoch 31/100\n",
            "100/100 [==============================] - 24s 239ms/step - loss: 0.0511 - acc: 0.9810 - val_loss: 0.1309 - val_acc: 0.9710\n",
            "Epoch 32/100\n",
            "100/100 [==============================] - 24s 237ms/step - loss: 0.0677 - acc: 0.9790 - val_loss: 0.0114 - val_acc: 0.9730\n",
            "Epoch 33/100\n",
            "100/100 [==============================] - 24s 239ms/step - loss: 0.0462 - acc: 0.9850 - val_loss: 0.0211 - val_acc: 0.9720\n",
            "Epoch 34/100\n",
            "100/100 [==============================] - 24s 238ms/step - loss: 0.0749 - acc: 0.9700 - val_loss: 0.0033 - val_acc: 0.9690\n",
            "Epoch 35/100\n",
            "100/100 [==============================] - 24s 238ms/step - loss: 0.0725 - acc: 0.9705 - val_loss: 0.0888 - val_acc: 0.9680\n",
            "Epoch 36/100\n",
            "100/100 [==============================] - 24s 239ms/step - loss: 0.0686 - acc: 0.9705 - val_loss: 0.0037 - val_acc: 0.9710\n",
            "Epoch 37/100\n",
            "100/100 [==============================] - 24s 238ms/step - loss: 0.0602 - acc: 0.9760 - val_loss: 5.1697e-04 - val_acc: 0.9610\n",
            "Epoch 38/100\n",
            "100/100 [==============================] - 24s 238ms/step - loss: 0.0573 - acc: 0.9805 - val_loss: 0.0611 - val_acc: 0.9630\n",
            "Epoch 39/100\n",
            "100/100 [==============================] - 24s 238ms/step - loss: 0.0632 - acc: 0.9770 - val_loss: 0.0172 - val_acc: 0.9580\n",
            "Epoch 40/100\n",
            "100/100 [==============================] - 24s 239ms/step - loss: 0.0620 - acc: 0.9790 - val_loss: 0.0073 - val_acc: 0.9600\n",
            "Epoch 41/100\n",
            "100/100 [==============================] - 24s 236ms/step - loss: 0.0566 - acc: 0.9820 - val_loss: 0.0319 - val_acc: 0.9680\n",
            "Epoch 42/100\n",
            "100/100 [==============================] - 24s 239ms/step - loss: 0.0559 - acc: 0.9810 - val_loss: 0.0017 - val_acc: 0.9650\n",
            "Epoch 43/100\n",
            "100/100 [==============================] - 24s 241ms/step - loss: 0.0551 - acc: 0.9835 - val_loss: 0.0871 - val_acc: 0.9700\n",
            "Epoch 44/100\n",
            "100/100 [==============================] - 24s 239ms/step - loss: 0.0492 - acc: 0.9790 - val_loss: 0.0017 - val_acc: 0.9750\n",
            "Epoch 45/100\n",
            "100/100 [==============================] - 24s 238ms/step - loss: 0.0524 - acc: 0.9810 - val_loss: 0.0625 - val_acc: 0.9710\n",
            "Epoch 46/100\n",
            "100/100 [==============================] - 24s 240ms/step - loss: 0.0630 - acc: 0.9760 - val_loss: 0.1254 - val_acc: 0.9700\n",
            "Epoch 47/100\n",
            "100/100 [==============================] - 24s 240ms/step - loss: 0.0526 - acc: 0.9765 - val_loss: 0.1180 - val_acc: 0.9620\n",
            "Epoch 48/100\n",
            "100/100 [==============================] - 24s 240ms/step - loss: 0.0607 - acc: 0.9750 - val_loss: 0.0446 - val_acc: 0.9710\n",
            "Epoch 49/100\n",
            "100/100 [==============================] - 24s 239ms/step - loss: 0.0450 - acc: 0.9825 - val_loss: 0.0147 - val_acc: 0.9690\n",
            "Epoch 50/100\n",
            "100/100 [==============================] - 24s 239ms/step - loss: 0.0490 - acc: 0.9835 - val_loss: 0.0646 - val_acc: 0.9700\n",
            "Epoch 51/100\n",
            "100/100 [==============================] - 24s 237ms/step - loss: 0.0294 - acc: 0.9910 - val_loss: 0.0372 - val_acc: 0.9720\n",
            "Epoch 52/100\n",
            "100/100 [==============================] - 24s 238ms/step - loss: 0.0506 - acc: 0.9840 - val_loss: 0.0103 - val_acc: 0.9680\n",
            "Epoch 53/100\n",
            "100/100 [==============================] - 24s 239ms/step - loss: 0.0465 - acc: 0.9820 - val_loss: 0.0031 - val_acc: 0.9720\n",
            "Epoch 54/100\n",
            "100/100 [==============================] - 24s 236ms/step - loss: 0.0389 - acc: 0.9860 - val_loss: 0.0272 - val_acc: 0.9650\n",
            "Epoch 55/100\n",
            "100/100 [==============================] - 23s 235ms/step - loss: 0.0369 - acc: 0.9845 - val_loss: 2.0343e-04 - val_acc: 0.9690\n",
            "Epoch 56/100\n",
            "100/100 [==============================] - 24s 236ms/step - loss: 0.0481 - acc: 0.9815 - val_loss: 0.3770 - val_acc: 0.9690\n",
            "Epoch 57/100\n",
            "100/100 [==============================] - 23s 233ms/step - loss: 0.0542 - acc: 0.9815 - val_loss: 0.0225 - val_acc: 0.9700\n",
            "Epoch 58/100\n",
            "100/100 [==============================] - 23s 233ms/step - loss: 0.0303 - acc: 0.9850 - val_loss: 0.1941 - val_acc: 0.9730\n",
            "Epoch 59/100\n",
            "100/100 [==============================] - 23s 232ms/step - loss: 0.0478 - acc: 0.9810 - val_loss: 0.0039 - val_acc: 0.9710\n",
            "Epoch 60/100\n",
            "100/100 [==============================] - 23s 230ms/step - loss: 0.0390 - acc: 0.9845 - val_loss: 0.0030 - val_acc: 0.9720\n",
            "Epoch 61/100\n",
            "100/100 [==============================] - 23s 230ms/step - loss: 0.0412 - acc: 0.9835 - val_loss: 0.0553 - val_acc: 0.9740\n",
            "Epoch 62/100\n",
            "100/100 [==============================] - 23s 228ms/step - loss: 0.0384 - acc: 0.9855 - val_loss: 2.0021e-04 - val_acc: 0.9690\n",
            "Epoch 63/100\n",
            "100/100 [==============================] - 23s 227ms/step - loss: 0.0362 - acc: 0.9860 - val_loss: 0.1261 - val_acc: 0.9700\n",
            "Epoch 64/100\n",
            "100/100 [==============================] - 23s 226ms/step - loss: 0.0361 - acc: 0.9865 - val_loss: 0.4491 - val_acc: 0.9730\n",
            "Epoch 65/100\n",
            "100/100 [==============================] - 22s 224ms/step - loss: 0.0384 - acc: 0.9845 - val_loss: 0.1963 - val_acc: 0.9710\n",
            "Epoch 66/100\n",
            "100/100 [==============================] - 23s 226ms/step - loss: 0.0360 - acc: 0.9885 - val_loss: 0.3131 - val_acc: 0.9700\n",
            "Epoch 67/100\n",
            "100/100 [==============================] - 23s 226ms/step - loss: 0.0434 - acc: 0.9870 - val_loss: 0.0043 - val_acc: 0.9740\n",
            "Epoch 68/100\n",
            "100/100 [==============================] - 22s 223ms/step - loss: 0.0292 - acc: 0.9870 - val_loss: 7.8508e-04 - val_acc: 0.9760\n",
            "Epoch 69/100\n",
            "100/100 [==============================] - 22s 224ms/step - loss: 0.0291 - acc: 0.9880 - val_loss: 0.2586 - val_acc: 0.9750\n",
            "Epoch 70/100\n",
            "100/100 [==============================] - 22s 223ms/step - loss: 0.0425 - acc: 0.9875 - val_loss: 0.1910 - val_acc: 0.9770\n",
            "Epoch 71/100\n",
            "100/100 [==============================] - 22s 223ms/step - loss: 0.0335 - acc: 0.9880 - val_loss: 0.0327 - val_acc: 0.9710\n",
            "Epoch 72/100\n",
            "100/100 [==============================] - 22s 223ms/step - loss: 0.0460 - acc: 0.9810 - val_loss: 2.9483e-04 - val_acc: 0.9730\n",
            "Epoch 73/100\n",
            "100/100 [==============================] - 22s 220ms/step - loss: 0.0442 - acc: 0.9860 - val_loss: 0.1139 - val_acc: 0.9690\n",
            "Epoch 74/100\n",
            "100/100 [==============================] - 22s 223ms/step - loss: 0.0406 - acc: 0.9875 - val_loss: 0.0157 - val_acc: 0.9660\n",
            "Epoch 75/100\n",
            "100/100 [==============================] - 22s 222ms/step - loss: 0.0434 - acc: 0.9845 - val_loss: 0.0284 - val_acc: 0.9700\n",
            "Epoch 76/100\n",
            "100/100 [==============================] - 22s 221ms/step - loss: 0.0305 - acc: 0.9885 - val_loss: 0.3228 - val_acc: 0.9680\n",
            "Epoch 77/100\n",
            "100/100 [==============================] - 22s 221ms/step - loss: 0.0520 - acc: 0.9825 - val_loss: 0.0439 - val_acc: 0.9690\n",
            "Epoch 78/100\n",
            "100/100 [==============================] - 22s 221ms/step - loss: 0.0381 - acc: 0.9885 - val_loss: 0.1831 - val_acc: 0.9690\n",
            "Epoch 79/100\n",
            "100/100 [==============================] - 22s 220ms/step - loss: 0.0259 - acc: 0.9915 - val_loss: 0.2063 - val_acc: 0.9680\n",
            "Epoch 80/100\n",
            "100/100 [==============================] - 22s 223ms/step - loss: 0.0380 - acc: 0.9875 - val_loss: 0.1115 - val_acc: 0.9720\n",
            "Epoch 81/100\n",
            "100/100 [==============================] - 22s 220ms/step - loss: 0.0403 - acc: 0.9875 - val_loss: 0.0495 - val_acc: 0.9730\n",
            "Epoch 82/100\n",
            "100/100 [==============================] - 22s 221ms/step - loss: 0.0335 - acc: 0.9900 - val_loss: 0.0023 - val_acc: 0.9740\n",
            "Epoch 83/100\n",
            "100/100 [==============================] - 22s 220ms/step - loss: 0.0449 - acc: 0.9890 - val_loss: 0.0228 - val_acc: 0.9690\n",
            "Epoch 84/100\n",
            "100/100 [==============================] - 22s 220ms/step - loss: 0.0349 - acc: 0.9875 - val_loss: 0.0082 - val_acc: 0.9710\n",
            "Epoch 85/100\n",
            "100/100 [==============================] - 22s 222ms/step - loss: 0.0274 - acc: 0.9900 - val_loss: 0.0694 - val_acc: 0.9700\n",
            "Epoch 86/100\n",
            "100/100 [==============================] - 22s 219ms/step - loss: 0.0457 - acc: 0.9815 - val_loss: 0.1196 - val_acc: 0.9690\n",
            "Epoch 87/100\n",
            "100/100 [==============================] - 22s 220ms/step - loss: 0.0302 - acc: 0.9890 - val_loss: 1.9781e-04 - val_acc: 0.9680\n",
            "Epoch 88/100\n",
            "100/100 [==============================] - 22s 222ms/step - loss: 0.0249 - acc: 0.9920 - val_loss: 0.8196 - val_acc: 0.9670\n",
            "Epoch 89/100\n",
            "100/100 [==============================] - 22s 222ms/step - loss: 0.0302 - acc: 0.9895 - val_loss: 0.0021 - val_acc: 0.9710\n",
            "Epoch 90/100\n",
            "100/100 [==============================] - 22s 220ms/step - loss: 0.0298 - acc: 0.9895 - val_loss: 0.0484 - val_acc: 0.9710\n",
            "Epoch 91/100\n",
            "100/100 [==============================] - 22s 219ms/step - loss: 0.0236 - acc: 0.9930 - val_loss: 0.3284 - val_acc: 0.9690\n",
            "Epoch 92/100\n",
            "100/100 [==============================] - 22s 222ms/step - loss: 0.0253 - acc: 0.9905 - val_loss: 2.9366e-04 - val_acc: 0.9700\n",
            "Epoch 93/100\n",
            "100/100 [==============================] - 22s 221ms/step - loss: 0.0255 - acc: 0.9915 - val_loss: 0.0427 - val_acc: 0.9720\n",
            "Epoch 94/100\n",
            "100/100 [==============================] - 22s 222ms/step - loss: 0.0265 - acc: 0.9900 - val_loss: 0.1215 - val_acc: 0.9670\n",
            "Epoch 95/100\n",
            "100/100 [==============================] - 22s 219ms/step - loss: 0.0231 - acc: 0.9920 - val_loss: 0.0025 - val_acc: 0.9680\n",
            "Epoch 96/100\n",
            "100/100 [==============================] - 22s 221ms/step - loss: 0.0254 - acc: 0.9920 - val_loss: 2.5881e-04 - val_acc: 0.9660\n",
            "Epoch 97/100\n",
            "100/100 [==============================] - 22s 220ms/step - loss: 0.0293 - acc: 0.9920 - val_loss: 0.0809 - val_acc: 0.9710\n",
            "Epoch 98/100\n",
            "100/100 [==============================] - 22s 220ms/step - loss: 0.0250 - acc: 0.9920 - val_loss: 0.0050 - val_acc: 0.9670\n",
            "Epoch 99/100\n",
            "100/100 [==============================] - 22s 219ms/step - loss: 0.0343 - acc: 0.9865 - val_loss: 0.0218 - val_acc: 0.9730\n",
            "Epoch 100/100\n",
            "100/100 [==============================] - 22s 219ms/step - loss: 0.0205 - acc: 0.9925 - val_loss: 0.0586 - val_acc: 0.9700\n"
          ],
          "name": "stdout"
        }
      ]
    },
    {
      "cell_type": "markdown",
      "metadata": {
        "id": "eVBQgh5M-Rtz",
        "colab_type": "text"
      },
      "source": [
        "## Display learning curves during fine-tuning"
      ]
    },
    {
      "cell_type": "code",
      "metadata": {
        "id": "mbkIw7Ie-NP4",
        "colab_type": "code",
        "outputId": "df2c6a55-ee7f-47d0-e874-444f5f463c32",
        "colab": {
          "base_uri": "https://localhost:8080/",
          "height": 545
        }
      },
      "source": [
        "%matplotlib inline\n",
        "\n",
        "import matplotlib.pyplot as plt\n",
        "\n",
        "acc = history.history['acc']\n",
        "val_acc = history.history['val_acc']\n",
        "\n",
        "loss = history.history['loss']\n",
        "val_loss = history.history['val_loss']\n",
        "\n",
        "epochs = range(1, len(acc) + 1)\n",
        "\n",
        "# training and validation accuracy\n",
        "\n",
        "plt.plot(epochs, acc, 'bo', label='training acc')\n",
        "plt.plot(epochs, val_acc, 'b', label='validation acc')\n",
        "plt.title('training and validation accuracy')\n",
        "plt.legend()\n",
        "\n",
        "plt.figure()\n",
        "\n",
        "# training and validation loss\n",
        "\n",
        "plt.plot(epochs, loss, 'bo', label='training loss')\n",
        "plt.plot(epochs, val_loss, 'b', label='validation loss')\n",
        "plt.title('training and validation loss')\n",
        "plt.legend()\n",
        "\n",
        "plt.show()"
      ],
      "execution_count": 15,
      "outputs": [
        {
          "output_type": "display_data",
          "data": {
            "image/png": "[encoded data removed]",
            "text/plain": [
              "<Figure size 432x288 with 1 Axes>"
            ]
          },
          "metadata": {
            "tags": [],
            "needs_background": "light"
          }
        },
        {
          "output_type": "display_data",
          "data": {
            "image/png": "[encoded data removed]",
            "text/plain": [
              "<Figure size 432x288 with 1 Axes>"
            ]
          },
          "metadata": {
            "tags": [],
            "needs_background": "light"
          }
        }
      ]
    },
    {
      "cell_type": "markdown",
      "metadata": {
        "id": "obQi6N4ZShdi",
        "colab_type": "text"
      },
      "source": [
        "This looks like overfitting. I should try  adding dropout for the densely connected layer."
      ]
    },
    {
      "cell_type": "markdown",
      "metadata": {
        "id": "he3Nw6TOJwjx",
        "colab_type": "text"
      },
      "source": [
        "## Print out validation loss and accuracy"
      ]
    },
    {
      "cell_type": "code",
      "metadata": {
        "id": "SVQtrk7uJdhl",
        "colab_type": "code",
        "colab": {}
      },
      "source": [
        "val_loss, val_acc = model.evaluate_generator(validation_generator, steps=50)"
      ],
      "execution_count": 0,
      "outputs": []
    },
    {
      "cell_type": "code",
      "metadata": {
        "id": "HpdddLi1SUMe",
        "colab_type": "code",
        "outputId": "10972d21-c983-4ca1-fef8-284479dec52b",
        "colab": {
          "base_uri": "https://localhost:8080/",
          "height": 51
        }
      },
      "source": [
        "print(\"Validation loss:\", val_loss)\n",
        "print(\"Validation accuracy:\", val_acc)"
      ],
      "execution_count": 17,
      "outputs": [
        {
          "output_type": "stream",
          "text": [
            "Validation loss: 0.05859150364995003\n",
            "Validation accuracy: 0.9700000286102295\n"
          ],
          "name": "stdout"
        }
      ]
    },
    {
      "cell_type": "markdown",
      "metadata": {
        "id": "7Ww756WToby8",
        "colab_type": "text"
      },
      "source": [
        "## Save the model"
      ]
    },
    {
      "cell_type": "code",
      "metadata": {
        "id": "0lTUpUdwobKW",
        "colab_type": "code",
        "colab": {}
      },
      "source": [
        "model_fname = 'cats_and_dogs_small_4.h5' \n",
        "model.save(model_fname)"
      ],
      "execution_count": 0,
      "outputs": []
    },
    {
      "cell_type": "code",
      "metadata": {
        "id": "YhEoI8ZTok-X",
        "colab_type": "code",
        "colab": {}
      },
      "source": [
        "from google.colab import files\n",
        "\n",
        "with open(model_fname, 'r') as f:\n",
        "  files.download(model_fname)"
      ],
      "execution_count": 0,
      "outputs": []
    },
    {
      "cell_type": "code",
      "metadata": {
        "id": "VNEL4CCcS0Oj",
        "colab_type": "code",
        "colab": {}
      },
      "source": [
        ""
      ],
      "execution_count": 0,
      "outputs": []
    }
  ]
}